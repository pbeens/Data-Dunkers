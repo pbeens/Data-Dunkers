{
 "cells": [
  {
   "cell_type": "markdown",
   "metadata": {},
   "source": [
    "# Data Dunkers - Using Basketball Stats to Learn Data Science\n",
    "\n",
    "*This repository has been extracted from my Data Analysis repository found [here](https://github.com/pbeens/Data-Analysis). If you are looking for previous content (such as presentations prior to December 2023), please visit that repository.*\n",
    "\n",
    "## Workshop Slides\n",
    "\n",
    "If you are doing these activities as part of a workshop, you can use this [Google Slides presentation](https://bit.ly/dd-slides) as a starting point. Simply make a copy of the entire slideshow and then delete or modify slides as necessary.\n",
    "\n",
    "If you are doing the condensed workshop that focuses on the **Hoops** activity, you can use this [Google Slides presentation](https://bit.ly/pbl-hoops) as a starting point.\n",
    "\n",
    "## Lessons\n",
    "\n",
    "See [this document](https://github.com/pbeens/Data-Dunkers/blob/main/Lessons.ipynb) for the list of suggested lessons.\n",
    "\n",
    "## Colab vs Callysto\n",
    "\n",
    "Many of the notebooks include links to [Colab](https://colab.research.google.com/) and [Callysto](https://hub.callysto.ca/). Your choice will depend on your specific situation. If your school district blocks or has not enabled Colab, Callysto should work for you. \n",
    "\n",
    "## Cheatsheet\n",
    "\n",
    "We're including a comprehensive [cheatsheet](https://github.com/pbeens/Data-Dunkers/blob/main/cheatsheet.md) of code snippets that you may find valuable in helping you write your programs.\n",
    "\n",
    "## Credit\n",
    "\n",
    "Many of the resources found or mentioned here are built upon the tutorials found at [github.com/callysto/basketball-and-data-science](https://github.com/callysto/basketball-and-data-science), used with permission."
   ]
  }
 ],
 "metadata": {
  "language_info": {
   "name": "python"
  }
 },
 "nbformat": 4,
 "nbformat_minor": 2
}
