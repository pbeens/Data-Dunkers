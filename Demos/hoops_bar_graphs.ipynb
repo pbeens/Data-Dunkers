{
 "cells": [
  {
   "attachments": {},
   "cell_type": "markdown",
   "metadata": {},
   "source": [
    "# Creating Bar Graphs (Hoops Activity)\n",
    "\n",
    "(Open in [Callysto](https://hub.callysto.ca/jupyter/hub/user-redirect/git-pull?repo=https://github.com/pbeens/Data-Dunkers&branch=main&subPath=Demos/hoops_bar_graphs.ipynb&depth=1) | [Colab](https://githubtocolab.com/pbeens/Data-Dunkers/blob/main/Demos/hoops_bar_graphs.ipynb).)\n"
   ]
  },
  {
   "cell_type": "markdown",
   "metadata": {},
   "source": [
    "# Lesson Objectives"
   ]
  },
  {
   "cell_type": "markdown",
   "metadata": {},
   "source": [
    "By the end of this lesson, students will be able to:\n",
    "- Utilize the Plotly Express library in Python to create bar graphs by importing and aliasing the library as demonstrated in the lesson.\n",
    "- Load and filter data from a CSV file into a pandas DataFrame, ensuring that only relevant data (up to the '2022-23' season for Pascal Siakam's data) is included.\n",
    "- Create basic vertical bar graphs to represent data visually, focusing on specific basketball statistics like field goals made (FGM) and field goal attempts (FGA).\n",
    "- Modify graph aesthetics by renaming axis titles to enhance readability and presentation quality.\n",
    "- Interpret changes over time in basketball performance statistics by analyzing bar charts that display different statistical categories like field goal percentages."
   ]
  },
  {
   "attachments": {},
   "cell_type": "markdown",
   "metadata": {},
   "source": [
    "# Introduction"
   ]
  },
  {
   "attachments": {},
   "cell_type": "markdown",
   "metadata": {},
   "source": [
    "The main library we will using in these exercises in `plotly.express`. This library can be imported by using the following command:\n",
    "\n",
    "`import plotly.express as px`\n",
    "\n",
    "The `px` part means we can refer to the library as `px` any time we want to use it. This is called an \"alias\"."
   ]
  },
  {
   "attachments": {},
   "cell_type": "markdown",
   "metadata": {},
   "source": [
    "# The Basic Program"
   ]
  },
  {
   "attachments": {},
   "cell_type": "markdown",
   "metadata": {},
   "source": [
    "Let's continue working with the [Pascal Siakam data](../Data/Pascal_Siakam.csv). \n",
    "\n",
    "The key part of creating bar graphs is `px.bar()`, as shown below. Notice that we are using the same method as in previous programs to read in the data from the CSV file. \n",
    "\n",
    "In this example  we are plotting Siakam's Field Goals (FG), by season. We have to remember to only include data up to an including the '2022-23' season."
   ]
  },
  {
   "cell_type": "code",
   "execution_count": null,
   "metadata": {},
   "outputs": [],
   "source": [
    "import pandas as pd\n",
    "import plotly.express as px\n",
    "\n",
    "# URL of the data source\n",
    "url = 'https://raw.githubusercontent.com/pbeens/Data-Dunkers/main/Data/Pascal_Siakam.csv'\n",
    "\n",
    "# Read the data into a pandas dataframe\n",
    "df = pd.read_csv(url)\n",
    "\n",
    "# Filter to only use data <= 2022-23\n",
    "filter = df['SEASON_ID'] <= '2022-23'\n",
    "df = df[filter]\n",
    "\n",
    "# Create a bar chart using plotly express\n",
    "fig = px.bar(df, \n",
    "             x='SEASON_ID', \n",
    "             y='FGM', \n",
    "             title='Siakam Field Goals by Season')\n",
    "\n",
    "# Display the chart\n",
    "fig.show()"
   ]
  },
  {
   "attachments": {},
   "cell_type": "markdown",
   "metadata": {},
   "source": [
    "Once the data has been retrieved from the CSV file and stored in the dataframe (`df`) we don't need to retrieve it again."
   ]
  },
  {
   "attachments": {},
   "cell_type": "markdown",
   "metadata": {},
   "source": [
    "# Renaming X- or Y-Axis Labels"
   ]
  },
  {
   "attachments": {},
   "cell_type": "markdown",
   "metadata": {},
   "source": [
    "Let's rename the y-axis title by adding this code below where we create the graph:\n",
    "\n",
    "`fig.update_yaxes(title='Field Goals')`\n"
   ]
  },
  {
   "cell_type": "code",
   "execution_count": null,
   "metadata": {},
   "outputs": [],
   "source": [
    "fig = px.bar(df, \n",
    "             x='SEASON_ID', \n",
    "             y='FGM', \n",
    "             title='Siakam Field Goals by Season')\n",
    "\n",
    "# New line - to rename the y-axis title\n",
    "fig.update_yaxes(title='Field Goals')\n",
    "\n",
    "fig.show()"
   ]
  },
  {
   "attachments": {},
   "cell_type": "markdown",
   "metadata": {},
   "source": [
    "Question: How would you change the x-axis label? Modify the program above to make the x-axis label 'Season'."
   ]
  }
 ],
 "metadata": {
  "kernelspec": {
   "display_name": ".venv",
   "language": "python",
   "name": "python3"
  },
  "language_info": {
   "codemirror_mode": {
    "name": "ipython",
    "version": 3
   },
   "file_extension": ".py",
   "mimetype": "text/x-python",
   "name": "python",
   "nbconvert_exporter": "python",
   "pygments_lexer": "ipython3",
   "version": "3.10.5"
  },
  "orig_nbformat": 4
 },
 "nbformat": 4,
 "nbformat_minor": 2
}
