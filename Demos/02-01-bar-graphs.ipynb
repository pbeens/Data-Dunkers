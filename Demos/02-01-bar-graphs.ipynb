{
 "cells": [
  {
   "attachments": {},
   "cell_type": "markdown",
   "metadata": {},
   "source": [
    "# Creating Bar Graphs\n",
    "\n",
    "This notebook has been adapted from... \n",
    "\n",
    "https://github.com/callysto/basketball-and-data-science/blob/main/content/02-visualizing-data.ipynb, with permmission.\n",
    "\n",
    "(Open in \n",
    "[Callysto](https://hub.callysto.ca/jupyter/hub/user-redirect/git-pull?repo=https://github.com/pbeens/Data-Dunkers&branch=main&subPath=Demos/02-01-bar-graphs.ipynb&depth=1) | [Colab](https://githubtocolab.com/pbeens/Data-Dunkers/blob/main/Demos/02-01-bar-graphs.ipynb))"
   ]
  },
  {
   "attachments": {},
   "cell_type": "markdown",
   "metadata": {},
   "source": [
    "# Introduction"
   ]
  },
  {
   "attachments": {},
   "cell_type": "markdown",
   "metadata": {},
   "source": [
    "The main library we will using in these exercises in `plotly.express`. This library can be imported by using the following command:\n",
    "\n",
    "`import plotly.express as px`\n",
    "\n",
    "The `px` part means we can refer to the library as `px` any time we want to use it. This is called an \"alias\"."
   ]
  },
  {
   "attachments": {},
   "cell_type": "markdown",
   "metadata": {},
   "source": [
    "# The Basic Program"
   ]
  },
  {
   "attachments": {},
   "cell_type": "markdown",
   "metadata": {},
   "source": [
    "Let's continue working with the [Pascal Siakam](../Data/Pascal_Siakam.csv) data. \n",
    "\n",
    "The key part of creating bar graphs is `px.bar()`, as shown below. Notice that we are using the same method as in previous programs to read in the data from the CSV file. \n",
    "\n",
    "In this example  we are plotting Siakam's Field Goals (FG), by season. We have to remember to only include data up to an including the '2022-23' season."
   ]
  },
  {
   "cell_type": "code",
   "execution_count": null,
   "metadata": {},
   "outputs": [],
   "source": [
    "import pandas as pd\n",
    "import plotly.express as px\n",
    "\n",
    "# URL of the data source\n",
    "url = 'https://raw.githubusercontent.com/pbeens/Data-Dunkers/main/Data/Pascal_Siakam.csv'\n",
    "\n",
    "# Read the data into a pandas dataframe\n",
    "df = pd.read_csv(url)\n",
    "\n",
    "# Filter to only use data <= 2022-23\n",
    "df = df[df['SEASON_ID'] <= '2022-23']\n",
    "\n",
    "# Create a bar chart using plotly express\n",
    "fig = px.bar(df, \n",
    "             x='SEASON_ID', \n",
    "             y='FGM', \n",
    "             title='Siakam Field Goals by Season')\n",
    "\n",
    "# Display the chart\n",
    "fig.show()"
   ]
  },
  {
   "attachments": {},
   "cell_type": "markdown",
   "metadata": {},
   "source": [
    "Once the data has been retrieved from the CSV file and stored in the dataframe (`df`) we don't need to retrieve it again."
   ]
  },
  {
   "attachments": {},
   "cell_type": "markdown",
   "metadata": {},
   "source": [
    "# Renaming X- or Y-Axis Labels"
   ]
  },
  {
   "attachments": {},
   "cell_type": "markdown",
   "metadata": {},
   "source": [
    "Let's rename the y-axis title by adding this code below where we create the graph:\n",
    "\n",
    "`fig.update_yaxes(title='Field Goals')`\n"
   ]
  },
  {
   "cell_type": "code",
   "execution_count": null,
   "metadata": {},
   "outputs": [],
   "source": [
    "fig = px.bar(df, \n",
    "             x='SEASON_ID', \n",
    "             y='FGM', \n",
    "             title='Siakam Field Goals by Season')\n",
    "\n",
    "# New line - to rename the y-axis title\n",
    "fig.update_yaxes(title='Field Goals')\n",
    "\n",
    "fig.show()"
   ]
  },
  {
   "attachments": {},
   "cell_type": "markdown",
   "metadata": {},
   "source": [
    "How would you do the x-axis label? Modify the program above to make the x-axis label 'Season'."
   ]
  },
  {
   "attachments": {},
   "cell_type": "markdown",
   "metadata": {},
   "source": [
    "# Horizontal Bar Graph\n",
    "\n"
   ]
  },
  {
   "attachments": {},
   "cell_type": "markdown",
   "metadata": {},
   "source": [
    "If we prefer a horizontal bar graph we can use `orientation='h'` and switch the x and y columns.\n",
    "\n",
    "Add appropriate code to change the y-axis title to something a little meaningful."
   ]
  },
  {
   "cell_type": "code",
   "execution_count": null,
   "metadata": {},
   "outputs": [],
   "source": [
    "fig = px.bar(df, \n",
    "             x='FGM', \n",
    "             y='SEASON_ID',\n",
    "             title='Siakam Field Goals by Season', \n",
    "             orientation='h') # <-- Change made here\n",
    "\n",
    "fig.update_xaxes(title='Field Goals')\n",
    "\n",
    "# Add code to modify the y-axis title below\n",
    "\n",
    "fig.show()"
   ]
  },
  {
   "attachments": {},
   "cell_type": "markdown",
   "metadata": {},
   "source": [
    "# Multiple Columns"
   ]
  },
  {
   "attachments": {},
   "cell_type": "markdown",
   "metadata": {},
   "source": [
    "Like before, we put our column choices in a list (**[ ]**.)"
   ]
  },
  {
   "cell_type": "code",
   "execution_count": null,
   "metadata": {},
   "outputs": [],
   "source": [
    "fig = px.bar(df, \n",
    "             x='SEASON_ID', \n",
    "             y=['FGM', 'FGA'], \n",
    "             title='Siakam Field Goals by Season')\n",
    "\n",
    "fig.update_yaxes(title='Field Goals')\n",
    "\n",
    "fig.show()"
   ]
  },
  {
   "attachments": {},
   "cell_type": "markdown",
   "metadata": {},
   "source": [
    "You see that the default is to stack the bars. We can use `barmode='group'` to put them side by side."
   ]
  },
  {
   "cell_type": "code",
   "execution_count": null,
   "metadata": {},
   "outputs": [],
   "source": [
    "fig = px.bar(df, \n",
    "             x='SEASON_ID', \n",
    "             y=['FGM', 'FGA'], \n",
    "             barmode='group', # <-- this is the change we made\n",
    "             title='Siakam Field Goals by Season')\n",
    "\n",
    "fig.update_yaxes(title='Field Goals')\n",
    "\n",
    "fig.show()"
   ]
  },
  {
   "attachments": {},
   "cell_type": "markdown",
   "metadata": {},
   "source": [
    "# Exercise"
   ]
  },
  {
   "attachments": {},
   "cell_type": "markdown",
   "metadata": {},
   "source": [
    "Create a bar chart with 'Age' on the x-axis and 'FG_PCT_', 'FG2_PCT', 'FG3_PCT' on the y-axis. What changes do you see in these values over time?\n",
    "\n",
    "Don't forget to only include data <= the '2022-23' season."
   ]
  },
  {
   "cell_type": "code",
   "execution_count": null,
   "metadata": {},
   "outputs": [],
   "source": [
    "# URL of the data source\n",
    "url = 'https://raw.githubusercontent.com/pbeens/Data-Dunkers/main/Data/Pascal_Siakam.csv'\n",
    "\n",
    "# Read the data into a pandas dataframe\n",
    "df = pd.read_csv(url)"
   ]
  },
  {
   "cell_type": "markdown",
   "metadata": {},
   "source": [
    "---\n",
    "Back to [Lessons](https://github.com/pbeens/Data-Dunkers/blob/main/Lessons.md)"
   ]
  }
 ],
 "metadata": {
  "kernelspec": {
   "display_name": ".venv",
   "language": "python",
   "name": "python3"
  },
  "language_info": {
   "codemirror_mode": {
    "name": "ipython",
    "version": 3
   },
   "file_extension": ".py",
   "mimetype": "text/x-python",
   "name": "python",
   "nbconvert_exporter": "python",
   "pygments_lexer": "ipython3",
   "version": "3.11.4"
  },
  "orig_nbformat": 4
 },
 "nbformat": 4,
 "nbformat_minor": 2
}
