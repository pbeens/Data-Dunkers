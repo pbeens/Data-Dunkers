{
 "cells": [
  {
   "attachments": {},
   "cell_type": "markdown",
   "metadata": {},
   "source": [
    "# Jupyter Notebook Demo\n",
    "\n",
    "Open this notebook in [Callysto](https://hub.callysto.ca/jupyter/hub/user-redirect/git-pull?repo=https://github.com/pbeens/Data-Dunkers&branch=main&subPath=Demos/jupyter-notebook-demo.ipynb&depth=1) or in [Colab](https://githubtocolab.com/pbeens/Data-Dunkers/blob/main/Demos/jupyter-notebook-demo.ipynb).\n",
    "\n",
    "*A guidebook for this lesson is available [here](Guides/jupyter-notebook-demo-guide.md) or as a [PDF](Guides/jupyter-notebook-demo-guide.pdf) for download.*"
   ]
  },
  {
   "cell_type": "markdown",
   "metadata": {},
   "source": [
    "# Lesson Objectives"
   ]
  },
  {
   "cell_type": "markdown",
   "metadata": {},
   "source": [
    "By the end of this lesson, students will be able to:\n",
    "- Explain what a Jupyter Notebook is and its relevance in the context of interactive computing and data science.\n",
    "- Recognize the history and development of the Jupyter Notebook from IPython to the introduction of the Project Jupyter.\n",
    "- Utilize Markdown to format text, create lists, headers, links, images, and tables within a Jupyter Notebook to enhance readability and presentation of the content.\n",
    "- Differentiate between Markdown cells for text formatting and code cells for executing Python code in a Jupyter Notebook.\n",
    "- Execute Python code directly within a Jupyter Notebook, observing the output inline with the code which enhances debugging and learning.\n",
    "- Navigate and apply basic and advanced Markdown features to create structured and visually appealing Jupyter Notebook documents."
   ]
  },
  {
   "cell_type": "markdown",
   "metadata": {},
   "source": [
    "## Colab vs Callysto \n",
    "\n",
    "*(Demo and discussion)*"
   ]
  },
  {
   "attachments": {},
   "cell_type": "markdown",
   "metadata": {},
   "source": [
    "## What is a Jupyter Notebook?\n",
    "\n",
    "Jupyter Notebooks are **web applications** that allow users to create and share documents with live code, equations, visualizations, and text. \n",
    "\n",
    "IPython, a predecessor of Jupyter, started in 2004. In 2011, the first version of Notebooks for **IPython** was released, and in 2014, a spin-off project called Project Jupyter was inroduced. The name Jupyter is an indirect acronym of the three core languages it was designed for: [JUlia](https://julialang.org/), [PYThon](https://www.python.org/), and [R](https://www.r-project.org/)."
   ]
  },
  {
   "attachments": {},
   "cell_type": "markdown",
   "metadata": {},
   "source": [
    "## Mardown Examples\n",
    "\n",
    "This is a Markdown cell (or block). \n",
    "\n",
    "Text can be **bold**, *italics*, ~~struck out~~, or `monospaced`. \n",
    "\n",
    "*The markdown for that sentence looks like this:*\n",
    "\n",
    "```\n",
    "Text can be **bold**, *italics*, ~~struck out~~, or `monospaced`. \n",
    "```\n",
    "\n",
    "You double-click on a cell to edit it.\n",
    "\n",
    "> Text can be indented.\n",
    "\n",
    "```\n",
    "> Text can be indented.\n",
    "```\n",
    "\n",
    "We can have code blocks in markdown:\n",
    "\n",
    "```\n",
    "name = 'Peter'\n",
    "print(name)\n",
    "```\n",
    "*(Enclose what you want in a markdown code block within a set of 3 back-ticks (```))*\n",
    "\n",
    "We can have links, like this: [Google](https://www.google.com/) which are formatted like this: \n",
    "\n",
    "---\n",
    "```\n",
    "[Google](https://www.google.com/)\n",
    "```\n",
    "---\n",
    "\n",
    "We can have headers, which makes our Jupyter Notebook more like a book:\n",
    "\n",
    "# Heading level 1\n",
    "\n",
    "---\n",
    "```\n",
    "(# Heading level 1)\n",
    "```\n",
    "---\n",
    "\n",
    "## Heading level 2\n",
    "\n",
    "### Heading level 3\n",
    "\n",
    "#### Heading level 4\n",
    "\n",
    "##### Heading Level 5\n",
    "\n",
    "###### Heading Level 6\n",
    "\n",
    "Let's not forget pictures!\n",
    "\n",
    "![Python logo](https://raw.githubusercontent.com/pbeens/Data-Dunkers/main/Images/python2.5.png)\n",
    "\n",
    "---\n",
    "```\n",
    "(![Python logo](https://raw.githubusercontent.com/pbeens/Data-Dunkers/main/Images/python2.5.png))\n",
    "```\n",
    "---\n",
    "\n",
    "And tables...\n",
    "\n",
    "| X | Y |\n",
    "| :--: | :--: |\n",
    "| 0 | 0 |\n",
    "| 1 | 1 |\n",
    "| 2 | 4 |\n",
    "| 3 | 9 |\n",
    "\n",
    "<br>\n",
    "\n",
    "---\n",
    "```\n",
    "| X | Y |\n",
    "| :--: | :--: |\n",
    "| 0 | 0 |\n",
    "| 1 | 1 |\n",
    "| 2 | 4 |\n",
    "| 3 | 9 |\n",
    "```\n",
    "---\n",
    "\n",
    "*(See this [file](markdown-tables.ipynb) for more details on Markdown tables.)*\n",
    "\n",
    "What if you want a line? (`---`)\n",
    "\n",
    "---"
   ]
  },
  {
   "cell_type": "markdown",
   "metadata": {},
   "source": [
    "...or an equation?\n",
    "\n",
    "---\n",
    "```\n",
    "$$\n",
    "a^2 + b^2 = c^2\n",
    "$$\n",
    "```\n",
    "---\n",
    "$$\n",
    "a^2 + b^2 = c^2\n",
    "$$"
   ]
  },
  {
   "cell_type": "markdown",
   "metadata": {},
   "source": [
    "What if you want the equation inline?\n",
    "\n",
    "---\n",
    "```\n",
    "The formula $a^2 + b^2 = c^2$ is from the Pythagorean theorem.\n",
    "```\n",
    "---\n",
    "\n",
    "The formula $a^2 + b^2 = c^2$ is from the Pythagorean theorem."
   ]
  },
  {
   "attachments": {},
   "cell_type": "markdown",
   "metadata": {},
   "source": [
    "## Code Cells\n",
    "\n",
    "These are code cells, where we can run **Python** programs:"
   ]
  },
  {
   "cell_type": "code",
   "execution_count": null,
   "metadata": {},
   "outputs": [],
   "source": [
    "# Print the string 'Hello world!'\n",
    "print('Hello world!')"
   ]
  },
  {
   "cell_type": "code",
   "execution_count": null,
   "metadata": {},
   "outputs": [],
   "source": [
    "# Assign the string 'Peter' to the variable name\n",
    "name = 'Peter'\n",
    "\n",
    "# Print the string 'Hello' followed by the value of the variable name\n",
    "print('Hello', name)"
   ]
  },
  {
   "cell_type": "markdown",
   "metadata": {},
   "source": [
    "---\n",
    "*Report issues or give us feedback about this notebook [here](https://docs.google.com/forms/d/e/1FAIpQLSdMRX2hPqZyD8-argFJXxB3ABQdLk3aUH1CAfmMEtcFAlWzCw/viewform?usp=pp_url&entry.1771525592=Module%20Resources%20%28the%20Jupyter%20notebooks%2C%20PPTS%20or%20additional%20resources%29&entry.1364186163=Jupyter%20Notebook%20Demo).*\n",
    "\n",
    "---\n",
    "Back to [Lessons](https://github.com/pbeens/Data-Dunkers/blob/main/Lessons.ipynb)"
   ]
  }
 ],
 "metadata": {
  "kernelspec": {
   "display_name": ".venv",
   "language": "python",
   "name": "python3"
  },
  "language_info": {
   "codemirror_mode": {
    "name": "ipython",
    "version": 3
   },
   "file_extension": ".py",
   "mimetype": "text/x-python",
   "name": "python",
   "nbconvert_exporter": "python",
   "pygments_lexer": "ipython3",
   "version": "3.11.4"
  },
  "orig_nbformat": 4
 },
 "nbformat": 4,
 "nbformat_minor": 2
}
