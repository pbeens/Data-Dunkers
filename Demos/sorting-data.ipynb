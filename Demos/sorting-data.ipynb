{
 "cells": [
  {
   "attachments": {},
   "cell_type": "markdown",
   "metadata": {},
   "source": [
    "# Sorting Our Data\n",
    "\n",
    "(Open in \n",
    "[Callysto](https://hub.callysto.ca/jupyter/hub/user-redirect/git-pull?repo=https://github.com/pbeens/Data-Dunkers&branch=main&subPath=Demos/sorting-data.ipynb&depth=1) | [Colab](https://githubtocolab.com/pbeens/Data-Dunkers/blob/main/Demos/sorting-data.ipynb)) "
   ]
  },
  {
   "cell_type": "markdown",
   "metadata": {},
   "source": [
    "# Lesson Objectives"
   ]
  },
  {
   "cell_type": "markdown",
   "metadata": {},
   "source": [
    "By the end of this lesson, students will be able to:\n",
    "- Understand the functionality and usage of the Pandas `drop()` method to remove unwanted rows from a DataFrame, and learn to make changes permanent by re-assigning the modified DataFrame.\n",
    "- Utilize the `sort_values()` method in Pandas to order data within a DataFrame based on one or more columns, and adjust sorting order using the `ascending` parameter.\n",
    "- Filter and reduce the number of columns in a DataFrame to focus on relevant data for analysis or visualization.\n",
    "- Demonstrate proficiency in handling and manipulating DataFrame columns and rows to prepare data for detailed analysis or reporting.\n",
    "- Develop skills in using Python for data manipulation and visualization, preparing them for advanced data handling tasks in real-world applications.\n",
    "- Apply these techniques to create structured and insightful visual presentations of data using libraries such as Plotly Express."
   ]
  },
  {
   "attachments": {},
   "cell_type": "markdown",
   "metadata": {},
   "source": [
    "## Let’s Get Our Data"
   ]
  },
  {
   "cell_type": "code",
   "execution_count": null,
   "metadata": {},
   "outputs": [],
   "source": [
    "import pandas as pd\n",
    "\n",
    "# URL of the CSV file containing data for Pascal Siakam\n",
    "url = 'https://raw.githubusercontent.com/pbeens/Data-Dunkers/main/Data/Pascal_Siakam.csv'\n",
    "\n",
    "# Read the CSV file into a pandas DataFrame\n",
    "df = pd.read_csv(url)\n",
    "\n",
    "# Display the DataFrame\n",
    "display(df)"
   ]
  },
  {
   "attachments": {},
   "cell_type": "markdown",
   "metadata": {},
   "source": [
    "You can view the raw CSV file [here](https://raw.githubusercontent.com/pbeens/Data-Dunkers/main/Data/Pascal_Siakam.csv).\n",
    "\n",
    "As a reminder, here are our columns:\n",
    "\n",
    "| Field Name | Definition | Field Name | Definition |\n",
    "|---|---|---|---|\n",
    "| AST | The total number of assists a player has made. | FTM | The total number of free throws the player has made. |\n",
    "| BLK | The total number of opponent shots a player has deflected or prevented. | GP | The number of games in which the player has appeared. |\n",
    "| DREB | The total number of rebounds a player has grabbed on the defensive end. | GS | The number of games in which the player was in the starting lineup. |\n",
    "| FG_PCT | The percentage of field goal attempts that are successful. | MIN | The total number of minutes the player has played. |\n",
    "| FG2_PCT | The percentage of two-point field goal attempts that are successful. | OREB | The total number of rebounds a player has grabbed on the offensive end. |\n",
    "| FG2A | The total number of two-point field goal attempts by the player. | PF | The total number of personal fouls committed by the player. |\n",
    "| FG2M | The total number of two-point field goals a player has made. | PLAYER_AGE | The age of the player. |\n",
    "| FG3_PCT | The percentage of three-point field goal attempts that are successful. | PTS | The total number of points a player has scored. |\n",
    "| FG3A | The total number of three-point field goal attempts by the player. | REB | The total number of rebounds (offensive + defensive) a player has collected. |\n",
    "| FG3M | The total number of three-point field goals a player has made. | SEASON_ID | The identifier for the basketball season. |\n",
    "| FGA | The total number of field goal attempts by the player. | STL | The total number of times a player has successfully taken the ball away from an opponent. |\n",
    "| FGM | The total number of field goals a player has made. | TEAM_ABBREVIATION | The abbreviated name of the team. |\n",
    "| FT_PCT | The percentage of free throw attempts that are successful. | TEAM_ID | A unique identifier for the team. |\n",
    "| FTA | The total number of free throw attempts by the player. | TOV | The total number of times a player loses possession of the ball. | "
   ]
  },
  {
   "attachments": {},
   "cell_type": "markdown",
   "metadata": {},
   "source": [
    "## Dropping a Line by Index Number"
   ]
  },
  {
   "attachments": {},
   "cell_type": "markdown",
   "metadata": {},
   "source": [
    "Notice we still have that last line, that has \"TOT\" for the Team Abbreviation? Let's drop that.\n",
    "\n",
    "If you look closely and you'll see that it's index #9. \n",
    "\n",
    "Here is the code to delete (or \"drop\") that line (or \"index number\"):"
   ]
  },
  {
   "cell_type": "code",
   "execution_count": null,
   "metadata": {},
   "outputs": [],
   "source": [
    "display(df.drop(9))"
   ]
  },
  {
   "cell_type": "markdown",
   "metadata": {},
   "source": [
    "What happens if we change the \"9\" to another number? Try it!\n",
    "\n",
    "Let's display the dataframe again, to see if the change is permanent."
   ]
  },
  {
   "cell_type": "code",
   "execution_count": null,
   "metadata": {},
   "outputs": [],
   "source": [
    "display(df)"
   ]
  },
  {
   "attachments": {},
   "cell_type": "markdown",
   "metadata": {},
   "source": [
    "It's not. The Careers line is still there. \n",
    "\n",
    "Let's tell the program we want to make this permanent by asigning it back into the dataframe."
   ]
  },
  {
   "cell_type": "code",
   "execution_count": null,
   "metadata": {},
   "outputs": [],
   "source": [
    "df = df.drop(9)\n",
    "\n",
    "display(df)"
   ]
  },
  {
   "attachments": {},
   "cell_type": "markdown",
   "metadata": {},
   "source": [
    "That's better!"
   ]
  },
  {
   "attachments": {},
   "cell_type": "markdown",
   "metadata": {},
   "source": [
    "## Sorting"
   ]
  },
  {
   "attachments": {},
   "cell_type": "markdown",
   "metadata": {},
   "source": [
    "What if we want to sort the data by steals (STL)?"
   ]
  },
  {
   "cell_type": "code",
   "execution_count": null,
   "metadata": {},
   "outputs": [],
   "source": [
    "display(df.sort_values('STL'))"
   ]
  },
  {
   "attachments": {},
   "cell_type": "markdown",
   "metadata": {},
   "source": [
    "What if we want them descending instead of ascending? Simply add `ascending=False` to the arguments in `sort_values()`. (The default, if you don't tell it otherwise, is `ascending=True`)"
   ]
  },
  {
   "cell_type": "code",
   "execution_count": null,
   "metadata": {},
   "outputs": [],
   "source": [
    "df.sort_values('STL', ascending=False)"
   ]
  },
  {
   "attachments": {},
   "cell_type": "markdown",
   "metadata": {},
   "source": [
    "Let's reduce the columns we're looking at and save it in a new dataframe named `df_2`. \n",
    "\n",
    "If we were to continue working with just these columns we then work with `df_2` from now on."
   ]
  },
  {
   "cell_type": "code",
   "execution_count": null,
   "metadata": {},
   "outputs": [],
   "source": [
    "df_2 = df[['SEASON_ID', 'TEAM_ABBREVIATION', 'GP', 'GS', 'BLK', 'STL', 'MIN', 'FGM', 'FGA']]\n",
    "display(df_2)"
   ]
  },
  {
   "attachments": {},
   "cell_type": "markdown",
   "metadata": {},
   "source": [
    "We'll work with `df_2` from now on.\n",
    "\n",
    "Let's sort on two columns now, for example first by Blocks Per Game (BLK) and then by Steals Per Game (STL). Notice that we must put the column names in a list (`[ ]`)."
   ]
  },
  {
   "cell_type": "code",
   "execution_count": null,
   "metadata": {},
   "outputs": [],
   "source": [
    "df_2.sort_values(['BLK', 'STL'])"
   ]
  },
  {
   "cell_type": "markdown",
   "metadata": {},
   "source": [
    "Can you confirm that it sorted correctly? "
   ]
  },
  {
   "attachments": {},
   "cell_type": "markdown",
   "metadata": {},
   "source": [
    "## Exercise"
   ]
  },
  {
   "attachments": {},
   "cell_type": "markdown",
   "metadata": {},
   "source": [
    "Modify the program below to only display the columns 'SEASON_ID', 'FG_PCT_', 'FG2_PCT', and 'FG3_PCT' sorted by 'FG_PCT'."
   ]
  },
  {
   "cell_type": "code",
   "execution_count": null,
   "metadata": {},
   "outputs": [],
   "source": [
    "import pandas as pd\n",
    "\n",
    "url = 'https://raw.githubusercontent.com/pbeens/Data-Dunkers/main/Data/Pascal_Siakam.csv'\n",
    "\n",
    "df = pd.read_csv(url)\n",
    "\n",
    "# Add your code here\n",
    "\n",
    "display(df)"
   ]
  },
  {
   "cell_type": "markdown",
   "metadata": {},
   "source": [
    "## Extra Challenge"
   ]
  },
  {
   "cell_type": "markdown",
   "metadata": {},
   "source": [
    "Produce this graph using the code stub below. You can view the raw data [here](https://raw.githubusercontent.com/pbeens/Data-Dunkers/main/Data/raptors-2023.csv).\n",
    "\n",
    "![raptors-2023-top-5-points.png](https://raw.githubusercontent.com/pbeens/Data-Dunkers/main/Images/raptors-2023-top-5-points.png)\n",
    "\n"
   ]
  },
  {
   "cell_type": "code",
   "execution_count": 1,
   "metadata": {},
   "outputs": [],
   "source": [
    "import pandas as pd\n",
    "import plotly_express as px\n",
    "\n",
    "url = r'https://raw.githubusercontent.com/pbeens/Data-Dunkers/main/Data/raptors-2023.csv'\n",
    "\n",
    "# put the rest of the code here!"
   ]
  },
  {
   "cell_type": "markdown",
   "metadata": {},
   "source": [
    "---\n",
    "*Report issues or give us feedback about this notebook [here](https://docs.google.com/forms/d/e/1FAIpQLSdMRX2hPqZyD8-argFJXxB3ABQdLk3aUH1CAfmMEtcFAlWzCw/viewform?usp=pp_url&entry.1771525592=Module%20Resources%20%28the%20Jupyter%20notebooks%2C%20PPTS%20or%20additional%20resources%29&entry.1364186163=Sorting%20Our%20Data).*\n",
    "\n",
    "---\n",
    "Back to [Lessons](https://github.com/pbeens/Data-Dunkers/blob/main/Lessons.ipynb)\n",
    "\n",
    "---\n",
    "This notebook has been adapted from... <br>\n",
    "https://github.com/callysto/basketball-and-data-science/blob/main/content/01-introduction.ipynb, with permission."
   ]
  }
 ],
 "metadata": {
  "kernelspec": {
   "display_name": ".venv",
   "language": "python",
   "name": "python3"
  },
  "language_info": {
   "codemirror_mode": {
    "name": "ipython",
    "version": 3
   },
   "file_extension": ".py",
   "mimetype": "text/x-python",
   "name": "python",
   "nbconvert_exporter": "python",
   "pygments_lexer": "ipython3",
   "version": "3.11.4"
  },
  "orig_nbformat": 4
 },
 "nbformat": 4,
 "nbformat_minor": 2
}
