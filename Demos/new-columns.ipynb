{
 "cells": [
  {
   "attachments": {},
   "cell_type": "markdown",
   "metadata": {},
   "source": [
    "# Adding New Columns\n",
    "\n",
    "(Open in [Callysto](https://hub.callysto.ca/jupyter/hub/user-redirect/git-pull?repo=https://github.com/pbeens/Data-Dunkers&branch=main&subPath=Demos/new-columns.ipynb&depth=1) | [Colab](https://githubtocolab.com/pbeens/Data-Dunkers/blob/main/Demos/new-columns.ipynb))"
   ]
  },
  {
   "cell_type": "markdown",
   "metadata": {},
   "source": [
    "---"
   ]
  },
  {
   "cell_type": "markdown",
   "metadata": {},
   "source": [
    "## Lesson Objectives"
   ]
  },
  {
   "cell_type": "markdown",
   "metadata": {},
   "source": [
    "By the end of this lesson, students will be able to:\n",
    "- Understand the process of adding new columns to a DataFrame in Python using Pandas, to enhance data with calculated metrics.\n",
    "- Calculate averages and other derived statistics, such as shot averages from field goal and free throw percentages, and add these as new columns to a DataFrame.\n",
    "- Apply mathematical operations to DataFrame columns to create meaningful new data points, such as total minutes played across all games.\n",
    "- Use rounding functions to format numerical data in DataFrames, ensuring clarity and precision in data presentation.\n",
    "- Manipulate DataFrames to display specific columns and limit the output to a subset of records, such as the top 10 players by a particular metric.\n",
    "- Develop proficiency in using Python for data manipulation, enhancing their ability to prepare data for analysis or reporting."
   ]
  },
  {
   "cell_type": "markdown",
   "metadata": {},
   "source": [
    "For this lesson we will be using a Raptors data file named [raptors-2023.csv](https://raw.githubusercontent.com/pbeens/Data-Dunkers/main/Data/raptors-2023.csv).\n",
    "\n",
    "Let's create a new column that is the average of the Field Goal Percentage (FG%) and Free Throw Percentage (FT%). The program works by calculating the shot average for each player by averaging their field goal percentage (FG%) and free throw percentage (FT%), then multiplying that by 100 to convert it back to a percentage format. This new value is added as a new column named Shot Average (%) to the DataFrame.\n",
    "\n",
    "For your reference, here are the names of all the data fields:\n",
    "\n",
    "| Field Name | Definition | Field Name | Definition |\n",
    "| --- | --- | --- | --- |\n",
    "| Age | Age of the player | AST | Assists |\n",
    "| BLK | Blocks | DRB | Defensive rebounds |\n",
    "| eFG% | Effective field goal percentage | FG | Field goals made |\n",
    "| FG% | Field goal percentage | FGA | Field goal attempts |\n",
    "| FT | Free throws made | FT% | Free throw percentage |\n",
    "| FTA | Free throw attempts | G | Games played |\n",
    "| GS | Games started | Lg | League |\n",
    "| MP | Minutes played | ORB | Offensive rebounds |\n",
    "| PF | Personal fouls | Player | Name of the player |\n",
    "| Pos | Position played | PTS | Points scored |\n",
    "| Season | Season year | STL | Steals |\n",
    "| Tm | Team abbreviation | TOV | Turnovers |\n",
    "| TRB | Total rebounds | 2P | Two-point field goals made |\n",
    "| 2PA | Two-point field goal attempts | 2P% | Two-point field goal percentage |\n",
    "| 3P | Three-point field goals made | 3PA | Three-point field goal attempts |\n",
    "| 3P% | Three-point field goal percentage | | |"
   ]
  },
  {
   "cell_type": "code",
   "execution_count": null,
   "metadata": {},
   "outputs": [],
   "source": [
    "# Import the pandas library\n",
    "import pandas as pd\n",
    "\n",
    "# Set the URL of the data file\n",
    "url = 'https://raw.githubusercontent.com/pbeens/Data-Dunkers/main/Data/raptors-2023.csv'\n",
    "\n",
    "# Read the data file into a pandas data frame\n",
    "raptors_df = pd.read_csv(url)\n",
    "\n",
    "# Calculate the shot average for each player and add it as a new column to the data frame\n",
    "raptors_df['Shot Average (%)'] = (raptors_df['FG%'] + raptors_df['FT%']) / 2 * 100\n",
    "\n",
    "# Display the columns 'Player', 'FG%', 'FT%', and 'Shot Average (%)' of the data frame\n",
    "display(raptors_df[['Player', 'FG%', 'FT%', 'Shot Average (%)']])\n"
   ]
  },
  {
   "cell_type": "markdown",
   "metadata": {},
   "source": [
    "Let's round that column so it has just one decimal place, by using `round(1)`. Note that this technique overwrites the column with the newly rounded data."
   ]
  },
  {
   "cell_type": "code",
   "execution_count": null,
   "metadata": {},
   "outputs": [],
   "source": [
    "# Round the 'Shot Average (%)' column to one decimal place\n",
    "raptors_df['Shot Average (%)'] = raptors_df['Shot Average (%)'].round(1)\n",
    "\n",
    "# Display the columns 'Player', 'FG%', 'FT%', and 'Shot Average (%)' of the data frame\n",
    "display(raptors_df[['Player', 'FG%', 'FT%', 'Shot Average (%)']])"
   ]
  },
  {
   "cell_type": "markdown",
   "metadata": {},
   "source": [
    "That's better!"
   ]
  },
  {
   "cell_type": "markdown",
   "metadata": {},
   "source": [
    "# Exercise"
   ]
  },
  {
   "cell_type": "markdown",
   "metadata": {},
   "source": [
    "Create a new column that is Games ('G') multiplied by Minutes Played Per Game ('MP'). Use the * symbol for multiplication. Round to one decimal place. \n",
    "\n",
    "What might you call the new column?\n",
    "\n",
    "Display the data so only the top 10 players are shown."
   ]
  },
  {
   "cell_type": "code",
   "execution_count": null,
   "metadata": {},
   "outputs": [],
   "source": [
    "# Write your program here.\n",
    "\n",
    "import \n",
    "\n",
    "df = \n",
    "\n"
   ]
  },
  {
   "cell_type": "markdown",
   "metadata": {},
   "source": [
    "---\n",
    "*Report issues or give us feedback about this notebook [here](https://docs.google.com/forms/d/e/1FAIpQLSdMRX2hPqZyD8-argFJXxB3ABQdLk3aUH1CAfmMEtcFAlWzCw/viewform?usp=pp_url&entry.1771525592=Module%20Resources%20%28the%20Jupyter%20notebooks%2C%20PPTS%20or%20additional%20resources%29&entry.1364186163=Adding%20New%20Columns).*\n",
    "\n",
    "---\n",
    "Back to [Lessons](https://github.com/pbeens/Data-Dunkers/blob/main/Lessons.ipynb)\n",
    "\n",
    "---\n",
    "This notebook has been adapted from... \n",
    "\n",
    "https://github.com/callysto/basketball-and-data-science/blob/main/content/03-statistics.ipynb, with permission."
   ]
  }
 ],
 "metadata": {
  "kernelspec": {
   "display_name": ".venv",
   "language": "python",
   "name": "python3"
  },
  "language_info": {
   "codemirror_mode": {
    "name": "ipython",
    "version": 3
   },
   "file_extension": ".py",
   "mimetype": "text/x-python",
   "name": "python",
   "nbconvert_exporter": "python",
   "pygments_lexer": "ipython3",
   "version": "3.11.4"
  },
  "orig_nbformat": 4
 },
 "nbformat": 4,
 "nbformat_minor": 2
}
