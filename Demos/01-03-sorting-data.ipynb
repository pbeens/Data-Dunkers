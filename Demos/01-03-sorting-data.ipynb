{
 "cells": [
  {
   "attachments": {},
   "cell_type": "markdown",
   "metadata": {},
   "source": [
    "This notebook has been adapted from... \n",
    "\n",
    "https://github.com/callysto/basketball-and-data-science/blob/main/content/01-introduction.ipynb, with permmission.\n",
    "\n",
    "(Open in \n",
    "[Callysto](https://hub.callysto.ca/jupyter/hub/user-redirect/git-pull?repo=https://github.com/pbeens/Data-Analysis&branch=main&subPath=BADS/01-Intro/01-03-sorting-data.ipynb&depth=1) | [Colab](https://githubtocolab.com/pbeens/Data-Analysis/blob/main/BADS/01-Intro/01-03-sorting-data.ipynb)) "
   ]
  },
  {
   "attachments": {},
   "cell_type": "markdown",
   "metadata": {},
   "source": [
    "# Let’s Get Our Data"
   ]
  },
  {
   "cell_type": "code",
   "execution_count": 2,
   "metadata": {},
   "outputs": [
    {
     "data": {
      "text/html": [
       "<div>\n",
       "<style scoped>\n",
       "    .dataframe tbody tr th:only-of-type {\n",
       "        vertical-align: middle;\n",
       "    }\n",
       "\n",
       "    .dataframe tbody tr th {\n",
       "        vertical-align: top;\n",
       "    }\n",
       "\n",
       "    .dataframe thead th {\n",
       "        text-align: right;\n",
       "    }\n",
       "</style>\n",
       "<table border=\"1\" class=\"dataframe\">\n",
       "  <thead>\n",
       "    <tr style=\"text-align: right;\">\n",
       "      <th></th>\n",
       "      <th>SEASON_ID</th>\n",
       "      <th>TEAM_ID</th>\n",
       "      <th>TEAM_ABBREVIATION</th>\n",
       "      <th>PLAYER_AGE</th>\n",
       "      <th>GP</th>\n",
       "      <th>GS</th>\n",
       "      <th>MIN</th>\n",
       "      <th>FGM</th>\n",
       "      <th>FGA</th>\n",
       "      <th>FG_PCT</th>\n",
       "      <th>...</th>\n",
       "      <th>FT_PCT</th>\n",
       "      <th>OREB</th>\n",
       "      <th>DREB</th>\n",
       "      <th>REB</th>\n",
       "      <th>AST</th>\n",
       "      <th>STL</th>\n",
       "      <th>BLK</th>\n",
       "      <th>TOV</th>\n",
       "      <th>PF</th>\n",
       "      <th>PTS</th>\n",
       "    </tr>\n",
       "  </thead>\n",
       "  <tbody>\n",
       "    <tr>\n",
       "      <th>0</th>\n",
       "      <td>2016-17</td>\n",
       "      <td>1610612761</td>\n",
       "      <td>TOR</td>\n",
       "      <td>23.0</td>\n",
       "      <td>55</td>\n",
       "      <td>38</td>\n",
       "      <td>859.0</td>\n",
       "      <td>103</td>\n",
       "      <td>205</td>\n",
       "      <td>0.502</td>\n",
       "      <td>...</td>\n",
       "      <td>0.688</td>\n",
       "      <td>64</td>\n",
       "      <td>121</td>\n",
       "      <td>185</td>\n",
       "      <td>17</td>\n",
       "      <td>26</td>\n",
       "      <td>45</td>\n",
       "      <td>33</td>\n",
       "      <td>109</td>\n",
       "      <td>229</td>\n",
       "    </tr>\n",
       "    <tr>\n",
       "      <th>1</th>\n",
       "      <td>2017-18</td>\n",
       "      <td>1610612761</td>\n",
       "      <td>TOR</td>\n",
       "      <td>24.0</td>\n",
       "      <td>81</td>\n",
       "      <td>5</td>\n",
       "      <td>1679.0</td>\n",
       "      <td>253</td>\n",
       "      <td>498</td>\n",
       "      <td>0.508</td>\n",
       "      <td>...</td>\n",
       "      <td>0.621</td>\n",
       "      <td>79</td>\n",
       "      <td>285</td>\n",
       "      <td>364</td>\n",
       "      <td>159</td>\n",
       "      <td>62</td>\n",
       "      <td>42</td>\n",
       "      <td>67</td>\n",
       "      <td>166</td>\n",
       "      <td>589</td>\n",
       "    </tr>\n",
       "    <tr>\n",
       "      <th>2</th>\n",
       "      <td>2018-19</td>\n",
       "      <td>1610612761</td>\n",
       "      <td>TOR</td>\n",
       "      <td>25.0</td>\n",
       "      <td>80</td>\n",
       "      <td>79</td>\n",
       "      <td>2548.0</td>\n",
       "      <td>519</td>\n",
       "      <td>945</td>\n",
       "      <td>0.549</td>\n",
       "      <td>...</td>\n",
       "      <td>0.785</td>\n",
       "      <td>124</td>\n",
       "      <td>425</td>\n",
       "      <td>549</td>\n",
       "      <td>248</td>\n",
       "      <td>73</td>\n",
       "      <td>52</td>\n",
       "      <td>154</td>\n",
       "      <td>241</td>\n",
       "      <td>1354</td>\n",
       "    </tr>\n",
       "    <tr>\n",
       "      <th>3</th>\n",
       "      <td>2019-20</td>\n",
       "      <td>1610612761</td>\n",
       "      <td>TOR</td>\n",
       "      <td>26.0</td>\n",
       "      <td>60</td>\n",
       "      <td>60</td>\n",
       "      <td>2110.0</td>\n",
       "      <td>500</td>\n",
       "      <td>1104</td>\n",
       "      <td>0.453</td>\n",
       "      <td>...</td>\n",
       "      <td>0.792</td>\n",
       "      <td>64</td>\n",
       "      <td>375</td>\n",
       "      <td>439</td>\n",
       "      <td>207</td>\n",
       "      <td>61</td>\n",
       "      <td>53</td>\n",
       "      <td>148</td>\n",
       "      <td>170</td>\n",
       "      <td>1371</td>\n",
       "    </tr>\n",
       "    <tr>\n",
       "      <th>4</th>\n",
       "      <td>2020-21</td>\n",
       "      <td>1610612761</td>\n",
       "      <td>TOR</td>\n",
       "      <td>27.0</td>\n",
       "      <td>56</td>\n",
       "      <td>56</td>\n",
       "      <td>2006.0</td>\n",
       "      <td>437</td>\n",
       "      <td>961</td>\n",
       "      <td>0.455</td>\n",
       "      <td>...</td>\n",
       "      <td>0.827</td>\n",
       "      <td>95</td>\n",
       "      <td>310</td>\n",
       "      <td>405</td>\n",
       "      <td>250</td>\n",
       "      <td>64</td>\n",
       "      <td>37</td>\n",
       "      <td>130</td>\n",
       "      <td>174</td>\n",
       "      <td>1196</td>\n",
       "    </tr>\n",
       "    <tr>\n",
       "      <th>5</th>\n",
       "      <td>2021-22</td>\n",
       "      <td>1610612761</td>\n",
       "      <td>TOR</td>\n",
       "      <td>28.0</td>\n",
       "      <td>68</td>\n",
       "      <td>68</td>\n",
       "      <td>2578.0</td>\n",
       "      <td>596</td>\n",
       "      <td>1207</td>\n",
       "      <td>0.494</td>\n",
       "      <td>...</td>\n",
       "      <td>0.749</td>\n",
       "      <td>128</td>\n",
       "      <td>452</td>\n",
       "      <td>580</td>\n",
       "      <td>360</td>\n",
       "      <td>85</td>\n",
       "      <td>42</td>\n",
       "      <td>181</td>\n",
       "      <td>225</td>\n",
       "      <td>1551</td>\n",
       "    </tr>\n",
       "    <tr>\n",
       "      <th>6</th>\n",
       "      <td>2022-23</td>\n",
       "      <td>1610612761</td>\n",
       "      <td>TOR</td>\n",
       "      <td>29.0</td>\n",
       "      <td>71</td>\n",
       "      <td>71</td>\n",
       "      <td>2652.0</td>\n",
       "      <td>630</td>\n",
       "      <td>1313</td>\n",
       "      <td>0.480</td>\n",
       "      <td>...</td>\n",
       "      <td>0.774</td>\n",
       "      <td>131</td>\n",
       "      <td>425</td>\n",
       "      <td>556</td>\n",
       "      <td>415</td>\n",
       "      <td>65</td>\n",
       "      <td>36</td>\n",
       "      <td>169</td>\n",
       "      <td>228</td>\n",
       "      <td>1720</td>\n",
       "    </tr>\n",
       "    <tr>\n",
       "      <th>7</th>\n",
       "      <td>2023-24</td>\n",
       "      <td>1610612761</td>\n",
       "      <td>TOR</td>\n",
       "      <td>29.0</td>\n",
       "      <td>39</td>\n",
       "      <td>39</td>\n",
       "      <td>1354.0</td>\n",
       "      <td>325</td>\n",
       "      <td>623</td>\n",
       "      <td>0.522</td>\n",
       "      <td>...</td>\n",
       "      <td>0.758</td>\n",
       "      <td>54</td>\n",
       "      <td>192</td>\n",
       "      <td>246</td>\n",
       "      <td>190</td>\n",
       "      <td>32</td>\n",
       "      <td>10</td>\n",
       "      <td>83</td>\n",
       "      <td>87</td>\n",
       "      <td>865</td>\n",
       "    </tr>\n",
       "    <tr>\n",
       "      <th>8</th>\n",
       "      <td>2023-24</td>\n",
       "      <td>1610612754</td>\n",
       "      <td>IND</td>\n",
       "      <td>29.0</td>\n",
       "      <td>24</td>\n",
       "      <td>24</td>\n",
       "      <td>786.0</td>\n",
       "      <td>203</td>\n",
       "      <td>370</td>\n",
       "      <td>0.549</td>\n",
       "      <td>...</td>\n",
       "      <td>0.698</td>\n",
       "      <td>46</td>\n",
       "      <td>122</td>\n",
       "      <td>168</td>\n",
       "      <td>102</td>\n",
       "      <td>17</td>\n",
       "      <td>8</td>\n",
       "      <td>34</td>\n",
       "      <td>62</td>\n",
       "      <td>494</td>\n",
       "    </tr>\n",
       "    <tr>\n",
       "      <th>9</th>\n",
       "      <td>2023-24</td>\n",
       "      <td>0</td>\n",
       "      <td>TOT</td>\n",
       "      <td>29.0</td>\n",
       "      <td>63</td>\n",
       "      <td>63</td>\n",
       "      <td>2140.0</td>\n",
       "      <td>528</td>\n",
       "      <td>993</td>\n",
       "      <td>0.532</td>\n",
       "      <td>...</td>\n",
       "      <td>0.741</td>\n",
       "      <td>100</td>\n",
       "      <td>314</td>\n",
       "      <td>414</td>\n",
       "      <td>292</td>\n",
       "      <td>49</td>\n",
       "      <td>18</td>\n",
       "      <td>117</td>\n",
       "      <td>149</td>\n",
       "      <td>1359</td>\n",
       "    </tr>\n",
       "  </tbody>\n",
       "</table>\n",
       "<p>10 rows × 25 columns</p>\n",
       "</div>"
      ],
      "text/plain": [
       "  SEASON_ID     TEAM_ID TEAM_ABBREVIATION  PLAYER_AGE  GP  GS     MIN  FGM   \n",
       "0   2016-17  1610612761               TOR        23.0  55  38   859.0  103  \\\n",
       "1   2017-18  1610612761               TOR        24.0  81   5  1679.0  253   \n",
       "2   2018-19  1610612761               TOR        25.0  80  79  2548.0  519   \n",
       "3   2019-20  1610612761               TOR        26.0  60  60  2110.0  500   \n",
       "4   2020-21  1610612761               TOR        27.0  56  56  2006.0  437   \n",
       "5   2021-22  1610612761               TOR        28.0  68  68  2578.0  596   \n",
       "6   2022-23  1610612761               TOR        29.0  71  71  2652.0  630   \n",
       "7   2023-24  1610612761               TOR        29.0  39  39  1354.0  325   \n",
       "8   2023-24  1610612754               IND        29.0  24  24   786.0  203   \n",
       "9   2023-24           0               TOT        29.0  63  63  2140.0  528   \n",
       "\n",
       "    FGA  FG_PCT  ...  FT_PCT  OREB  DREB  REB  AST  STL  BLK  TOV   PF   PTS  \n",
       "0   205   0.502  ...   0.688    64   121  185   17   26   45   33  109   229  \n",
       "1   498   0.508  ...   0.621    79   285  364  159   62   42   67  166   589  \n",
       "2   945   0.549  ...   0.785   124   425  549  248   73   52  154  241  1354  \n",
       "3  1104   0.453  ...   0.792    64   375  439  207   61   53  148  170  1371  \n",
       "4   961   0.455  ...   0.827    95   310  405  250   64   37  130  174  1196  \n",
       "5  1207   0.494  ...   0.749   128   452  580  360   85   42  181  225  1551  \n",
       "6  1313   0.480  ...   0.774   131   425  556  415   65   36  169  228  1720  \n",
       "7   623   0.522  ...   0.758    54   192  246  190   32   10   83   87   865  \n",
       "8   370   0.549  ...   0.698    46   122  168  102   17    8   34   62   494  \n",
       "9   993   0.532  ...   0.741   100   314  414  292   49   18  117  149  1359  \n",
       "\n",
       "[10 rows x 25 columns]"
      ]
     },
     "metadata": {},
     "output_type": "display_data"
    }
   ],
   "source": [
    "import pandas as pd\n",
    "\n",
    "# URL of the CSV file containing data for Pascal Siakam\n",
    "url = 'https://raw.githubusercontent.com/pbeens/Data-Dunkers/main/Data/Pascal_Siakam.csv'\n",
    "\n",
    "# Read the CSV file into a pandas DataFrame\n",
    "df = pd.read_csv(url)\n",
    "\n",
    "# Display the DataFrame\n",
    "display(df)"
   ]
  },
  {
   "attachments": {},
   "cell_type": "markdown",
   "metadata": {},
   "source": [
    "You can view the raw CSV file [here](https://raw.githubusercontent.com/callysto/basketball-and-data-science/main/content/data/nba-players/Pascal_Siakam.csv).\n",
    "\n",
    "As a reminder, here are our columns:\n",
    "\n",
    "|Column|Meaning|Column|Meaning|\n",
    "|:-:|-|:-:|-|\n",
    "| **2P** | 2-Point Field Goals Per Game | **2P%** | 2-Point Field Goal Percentage |\n",
    "| **2PA** | 2-Point Field Goal Attempts Per Game | **3P** | 3-Point Field Goals Per Game |\n",
    "| **3P%** | 3-Point Field Goal Percentage | **3PA** | 3-Point Field Goal Attempts Per Game |\n",
    "| **AST** | Assists Per Game | **BLK** | Blocks Per Game |\n",
    "| **DRB** | Defensive Rebounds Per Game | **eFG%** | Effective Field Goal Percentage* |\n",
    "| **FG** | Field Goals Per Game | **FG%** | Field Goal Percentage |\n",
    "| **FGA** | Field Goal Attempts Per Game | **FT** | Free Throws Per Game |\n",
    "| **FT%** | Free Throw Percentage | **FTA** | Free Throw Attempts Per Game |\n",
    "| **G** | Games | **GS** | Games Started |\n",
    "| **Lg** | League | **MP** | Minutes Played Per Game |\n",
    "| **ORB** | Offensive Rebounds Per Game | **PF** | Personal Fouls Per Game |\n",
    "| **PTS** | Points Per Game | **Pos** | Position |\n",
    "| **STL** | Steals Per Game | **TOV** | Turnovers Per Game |\n",
    "| **TRB** | Total Rebounds Per Game | | |"
   ]
  },
  {
   "attachments": {},
   "cell_type": "markdown",
   "metadata": {},
   "source": [
    "# Dropping a Line by Index Number"
   ]
  },
  {
   "attachments": {},
   "cell_type": "markdown",
   "metadata": {},
   "source": [
    "Notice we still have that last line, \"[Career](https://raw.githubusercontent.com/callysto/basketball-and-data-science/main/content/data/nba-players/Pascal_Siakam.csv)\"? Let's drop that.\n",
    "\n",
    "Look closely and you'll see that it's index #7. "
   ]
  },
  {
   "cell_type": "code",
   "execution_count": null,
   "metadata": {},
   "outputs": [],
   "source": [
    "display(df.drop(7))"
   ]
  },
  {
   "cell_type": "markdown",
   "metadata": {},
   "source": [
    "What happens if we change the \"7\" to another number? Try it! (Then change it back to 7!)"
   ]
  },
  {
   "attachments": {},
   "cell_type": "markdown",
   "metadata": {},
   "source": [
    "Let's display the dataframe again, to see if the change is permanent."
   ]
  },
  {
   "cell_type": "code",
   "execution_count": null,
   "metadata": {},
   "outputs": [],
   "source": [
    "display(df)"
   ]
  },
  {
   "attachments": {},
   "cell_type": "markdown",
   "metadata": {},
   "source": [
    "Nope, the Careers line is still there. \n",
    "\n",
    "Let's now tell the program we want to make this permanent by using the `inplace=True` argument in `drop()`."
   ]
  },
  {
   "cell_type": "code",
   "execution_count": null,
   "metadata": {},
   "outputs": [],
   "source": [
    "df.drop(7, inplace=True)\n",
    "\n",
    "display(df)"
   ]
  },
  {
   "attachments": {},
   "cell_type": "markdown",
   "metadata": {},
   "source": [
    "That's better!"
   ]
  },
  {
   "attachments": {},
   "cell_type": "markdown",
   "metadata": {},
   "source": [
    "# Sorting"
   ]
  },
  {
   "attachments": {},
   "cell_type": "markdown",
   "metadata": {},
   "source": [
    "What if we want to sort the data by personal fouls (PF)?"
   ]
  },
  {
   "cell_type": "code",
   "execution_count": null,
   "metadata": {},
   "outputs": [],
   "source": [
    "display(df.sort_values('PF'))"
   ]
  },
  {
   "attachments": {},
   "cell_type": "markdown",
   "metadata": {},
   "source": [
    "What if we want them descending instead of ascending? Simply add `ascending=False` to the arguments in `sort_values()`. (The default is `ascending=True`)"
   ]
  },
  {
   "cell_type": "code",
   "execution_count": null,
   "metadata": {},
   "outputs": [],
   "source": [
    "df.sort_values('PF', ascending=False)"
   ]
  },
  {
   "attachments": {},
   "cell_type": "markdown",
   "metadata": {},
   "source": [
    "Let's sort on two columns, for example first by Blocks Per Game (BLK) and then by Steals Per Game (STL). Notice that now we put the column names in a list (`[ ]`).\n",
    "\n"
   ]
  },
  {
   "cell_type": "code",
   "execution_count": null,
   "metadata": {},
   "outputs": [],
   "source": [
    "df.sort_values(['BLK', 'STL'])"
   ]
  },
  {
   "attachments": {},
   "cell_type": "markdown",
   "metadata": {},
   "source": [
    "Let's reduce the columns we're looking at and save it in a new dataframe named `df_2`. \n",
    "\n",
    "If we were to continue working with just these columns we then work with `df_2` from now on."
   ]
  },
  {
   "cell_type": "code",
   "execution_count": null,
   "metadata": {},
   "outputs": [],
   "source": [
    "df_2 = df[['G', 'GS', 'MP', 'FG', 'FGA']]\n",
    "\n",
    "display(df_2)"
   ]
  },
  {
   "attachments": {},
   "cell_type": "markdown",
   "metadata": {},
   "source": [
    "# Exercise"
   ]
  },
  {
   "attachments": {},
   "cell_type": "markdown",
   "metadata": {},
   "source": [
    "Modify the program below to only display the columns 'Season', 'FG%', '2P%', and '3P%' sorted by 'FG%'."
   ]
  },
  {
   "cell_type": "code",
   "execution_count": null,
   "metadata": {},
   "outputs": [],
   "source": [
    "import pandas as pd\n",
    "\n",
    "url = 'https://raw.githubusercontent.com/pbeens/Data-Dunkers/main/Data/Pascal_Siakam.csv'\n",
    "\n",
    "df = pd.read_csv(url)\n",
    "\n",
    "display(df)"
   ]
  },
  {
   "cell_type": "markdown",
   "metadata": {},
   "source": [
    "# Extra Challenge"
   ]
  },
  {
   "cell_type": "markdown",
   "metadata": {},
   "source": [
    "Produce this graph using the code stub below. You can view the raw data [here](https://raw.githubusercontent.com/pbeens/Data-Analysis/main/Data/raptors-2023.csv).\n",
    "\n",
    "![raptors-2023-top-5-points.png](https://raw.githubusercontent.com/pbeens/Data-Analysis/b411303d899ad240197f905ceb288644f769ea5c/Images/raptors-2023-top-5-points.png)\n",
    "\n"
   ]
  },
  {
   "cell_type": "code",
   "execution_count": null,
   "metadata": {},
   "outputs": [],
   "source": [
    "import pandas as pd\n",
    "import plotly_express as px\n",
    "\n",
    "url = r'https://raw.githubusercontent.com/pbeens/Data-Analysis/main/Data/raptors-2023.csv'\n",
    "\n",
    "# put the rest of the code here!"
   ]
  },
  {
   "cell_type": "markdown",
   "metadata": {},
   "source": [
    "---\n",
    "Next Lesson: [Bar Graphs](../02-visualize/02-01-bar-graphs.ipynb) ([GitHub link](https://github.com/pbeens/Data-Analysis/blob/f74aee1f8912a8a1e80ec13c277203f62bebadc2/BADS/02-visualize/02-01-bar-graphs.ipynb))"
   ]
  }
 ],
 "metadata": {
  "kernelspec": {
   "display_name": ".venv",
   "language": "python",
   "name": "python3"
  },
  "language_info": {
   "codemirror_mode": {
    "name": "ipython",
    "version": 3
   },
   "file_extension": ".py",
   "mimetype": "text/x-python",
   "name": "python",
   "nbconvert_exporter": "python",
   "pygments_lexer": "ipython3",
   "version": "3.11.4"
  },
  "orig_nbformat": 4
 },
 "nbformat": 4,
 "nbformat_minor": 2
}
