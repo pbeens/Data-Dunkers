{
 "cells": [
  {
   "cell_type": "markdown",
   "metadata": {},
   "source": [
    "In Markdown, tables are created by using pipes `|` and hyphens `-`. The first row is the header row and is separated from the rest of the table by a line of hyphens. The columns are separated by pipes. Here's an example:\n",
    "\n",
    "```\n",
    "| Column 1 | Column 2 |\n",
    "| -------- | -------- |\n",
    "| Row 1, Column 1 | Row 1, Column 2 |\n",
    "| Row 2, Column 1 | Row 2, Column 2 |\n",
    "```\n",
    "\n",
    "This will create a table that looks like this:\n",
    "\n",
    "| Column 1 | Column 2 |\n",
    "| -------- | -------- |\n",
    "| Row 1, Column 1 | Row 1, Column 2 |\n",
    "| Row 2, Column 1 | Row 2, Column 2 |\n",
    "\n",
    "You can also use colons to align the columns. For example:\n",
    "\n",
    "```\n",
    "| Left-aligned | Center-aligned | Right-aligned |\n",
    "| :----------- | :------------: | ------------: |\n",
    "| This | This | This |\n",
    "| column | column | column |\n",
    "| will | will | will |\n",
    "| be | be | be |\n",
    "| left-aligned | center-aligned | right-aligned |\n",
    "```\n",
    "\n",
    "This will create a table that looks like this:\n",
    "\n",
    "| Left-aligned | Center-aligned | Right-aligned |\n",
    "| :----------- | :------------: | ------------: |\n",
    "| This | This | This |\n",
    "| column | column | column |\n",
    "| will | will | will |\n",
    "| be | be | be |\n",
    "| left-aligned | center-aligned | right-aligned |\n",
    "\n",
    "Source: Conversation with Bing, 2023-07-02\n",
    "\n",
    "1. Write Markdown table - format styles align - w3schools.io. https://www.w3schools.io/file/markdown-table/.\n",
    "2. How to Create a Markdown Table - MUO. https://www.makeuseof.com/tag/create-markdown-table/.\n",
    "3. Markdown Tutorial => Creating a table. https://riptutorial.com/markdown/example/1741/creating-a-table.\n",
    "4. Markdown table: How to Create a Great Looking Table. https://markdown.land/markdown-table.\n",
    "5. Extended Syntax | Markdown Guide. https://www.markdownguide.org/extended-syntax.\n",
    "6. Markdown Guide. https://www.markdownguide.org/."
   ]
  }
 ],
 "metadata": {
  "language_info": {
   "name": "python"
  }
 },
 "nbformat": 4,
 "nbformat_minor": 2
}
