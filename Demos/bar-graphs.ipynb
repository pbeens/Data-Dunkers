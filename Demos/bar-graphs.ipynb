{
 "cells": [
  {
   "attachments": {},
   "cell_type": "markdown",
   "metadata": {},
   "source": [
    "# Creating Bar Graphs\n",
    "\n",
    "(Open in \n",
    "[Callysto](https://hub.callysto.ca/jupyter/hub/user-redirect/git-pull?repo=https://github.com/pbeens/Data-Dunkers&branch=main&subPath=Demos/bar-graphs.ipynb&depth=1) | [Colab](https://githubtocolab.com/pbeens/Data-Dunkers/blob/main/Demos/bar-graphs.ipynb))"
   ]
  },
  {
   "cell_type": "markdown",
   "metadata": {},
   "source": [
    "# Lesson Objectives"
   ]
  },
  {
   "cell_type": "markdown",
   "metadata": {},
   "source": [
    "By the end of this lesson, students will be able to:\n",
    "- Utilize the Plotly Express library in Python to create bar graphs by importing and aliasing the library as demonstrated in the lesson.\n",
    "- Load and filter data from a CSV file into a pandas DataFrame, ensuring that only relevant data (up to the '2022-23' season for Pascal Siakam's data) is included.\n",
    "- Create basic vertical and horizontal bar graphs to represent data visually, focusing on specific basketball statistics like field goals made (FGM) and field goal attempts (FGA).\n",
    "- Modify graph aesthetics by renaming axis titles to enhance readability and presentation quality.\n",
    "- Interpret changes over time in basketball performance statistics by analyzing bar charts that display different statistical categories like field goal percentages.\n",
    "- Apply advanced Plotly Express functionalities to modify the layout of bar graphs, such as changing the orientation and grouping of bars to compare multiple categories effectively."
   ]
  },
  {
   "attachments": {},
   "cell_type": "markdown",
   "metadata": {},
   "source": [
    "# Introduction"
   ]
  },
  {
   "attachments": {},
   "cell_type": "markdown",
   "metadata": {},
   "source": [
    "The main library we will using in these exercises in `plotly.express`. This library can be imported by using the following command:\n",
    "\n",
    "`import plotly.express as px`\n",
    "\n",
    "The `px` part means we can refer to the library as `px` any time we want to use it. This is called an \"alias\"."
   ]
  },
  {
   "attachments": {},
   "cell_type": "markdown",
   "metadata": {},
   "source": [
    "# The Basic Program"
   ]
  },
  {
   "attachments": {},
   "cell_type": "markdown",
   "metadata": {},
   "source": [
    "Let's continue working with the [Pascal Siakam data](../Data/Pascal_Siakam.csv). \n",
    "\n",
    "The key part of creating bar graphs is `px.bar()`, as shown below. Notice that we are using the same method as in previous programs to read in the data from the CSV file. \n",
    "\n",
    "In this example  we are plotting Siakam's Field Goals (FG), by season. We have to remember to only include data up to an including the '2022-23' season."
   ]
  },
  {
   "cell_type": "code",
   "execution_count": null,
   "metadata": {},
   "outputs": [],
   "source": [
    "import pandas as pd\n",
    "import plotly.express as px\n",
    "\n",
    "# URL of the data source\n",
    "url = 'https://raw.githubusercontent.com/pbeens/Data-Dunkers/main/Data/Pascal_Siakam.csv'\n",
    "\n",
    "# Read the data into a pandas dataframe\n",
    "df = pd.read_csv(url)\n",
    "\n",
    "# Filter to only use data <= 2022-23\n",
    "filter = df['SEASON_ID'] <= '2022-23'\n",
    "df = df[filter]\n",
    "\n",
    "# Create a bar chart using plotly express\n",
    "fig = px.bar(df, \n",
    "             x='SEASON_ID', \n",
    "             y='FGM', \n",
    "             title='Siakam Field Goals by Season')\n",
    "\n",
    "# Display the chart\n",
    "fig.show()"
   ]
  },
  {
   "attachments": {},
   "cell_type": "markdown",
   "metadata": {},
   "source": [
    "Once the data has been retrieved from the CSV file and stored in the dataframe (`df`) we don't need to retrieve it again."
   ]
  },
  {
   "attachments": {},
   "cell_type": "markdown",
   "metadata": {},
   "source": [
    "# Renaming X- or Y-Axis Labels"
   ]
  },
  {
   "attachments": {},
   "cell_type": "markdown",
   "metadata": {},
   "source": [
    "Let's rename the y-axis title by adding this code below where we create the graph:\n",
    "\n",
    "`fig.update_yaxes(title='Field Goals')`\n"
   ]
  },
  {
   "cell_type": "code",
   "execution_count": null,
   "metadata": {},
   "outputs": [],
   "source": [
    "fig = px.bar(df, \n",
    "             x='SEASON_ID', \n",
    "             y='FGM', \n",
    "             title='Siakam Field Goals by Season')\n",
    "\n",
    "# New line - to rename the y-axis title\n",
    "fig.update_yaxes(title='Field Goals')\n",
    "\n",
    "fig.show()"
   ]
  },
  {
   "attachments": {},
   "cell_type": "markdown",
   "metadata": {},
   "source": [
    "How would you do the x-axis label? Modify the program above to make the x-axis label 'Season'."
   ]
  },
  {
   "attachments": {},
   "cell_type": "markdown",
   "metadata": {},
   "source": [
    "# Horizontal Bar Graph\n",
    "\n"
   ]
  },
  {
   "attachments": {},
   "cell_type": "markdown",
   "metadata": {},
   "source": [
    "If we prefer a horizontal bar graph we can use `orientation='h'` and switch the x and y columns.\n",
    "\n",
    "Add appropriate code to change the y-axis title to something a little meaningful."
   ]
  },
  {
   "cell_type": "code",
   "execution_count": null,
   "metadata": {},
   "outputs": [],
   "source": [
    "fig = px.bar(df, \n",
    "             x='FGM', \n",
    "             y='SEASON_ID',\n",
    "             title='Siakam Field Goals by Season', \n",
    "             orientation='h') # <-- Change made here\n",
    "\n",
    "fig.update_xaxes(title='Field Goals')\n",
    "\n",
    "# Add code to modify the y-axis title below\n",
    "\n",
    "fig.show()"
   ]
  },
  {
   "attachments": {},
   "cell_type": "markdown",
   "metadata": {},
   "source": [
    "# Multiple Columns"
   ]
  },
  {
   "attachments": {},
   "cell_type": "markdown",
   "metadata": {},
   "source": [
    "Like before, we put our column choices in a list (**[ ]**.)"
   ]
  },
  {
   "cell_type": "code",
   "execution_count": null,
   "metadata": {},
   "outputs": [],
   "source": [
    "fig = px.bar(df, \n",
    "             x='SEASON_ID', \n",
    "             y=['FGM', 'FGA'], \n",
    "             title='Siakam Field Goals by Season')\n",
    "\n",
    "fig.update_yaxes(title='Field Goals')\n",
    "\n",
    "fig.show()"
   ]
  },
  {
   "attachments": {},
   "cell_type": "markdown",
   "metadata": {},
   "source": [
    "You see that the default is to stack the bars. We can use `barmode='group'` to put them side by side."
   ]
  },
  {
   "cell_type": "code",
   "execution_count": null,
   "metadata": {},
   "outputs": [],
   "source": [
    "fig = px.bar(df, \n",
    "             x='SEASON_ID', \n",
    "             y=['FGM', 'FGA'], \n",
    "             barmode='group', # <-- this is the change we made\n",
    "             title='Siakam Field Goals by Season')\n",
    "\n",
    "fig.update_yaxes(title='Field Goals')\n",
    "\n",
    "fig.show()"
   ]
  },
  {
   "attachments": {},
   "cell_type": "markdown",
   "metadata": {},
   "source": [
    "# Exercise"
   ]
  },
  {
   "attachments": {},
   "cell_type": "markdown",
   "metadata": {},
   "source": [
    "Create a bar chart with 'Age' on the x-axis and 'FG_PCT_', 'FG2_PCT', 'FG3_PCT' on the y-axis. What changes do you see in these values over time?\n",
    "\n",
    "Don't forget to only include data <= the '2022-23' season."
   ]
  },
  {
   "cell_type": "code",
   "execution_count": null,
   "metadata": {},
   "outputs": [],
   "source": [
    "# URL of the data source\n",
    "url = 'https://raw.githubusercontent.com/pbeens/Data-Dunkers/main/Data/Pascal_Siakam.csv'\n",
    "\n",
    "# Read the data into a pandas dataframe\n",
    "df = pd.read_csv(url)"
   ]
  },
  {
   "cell_type": "markdown",
   "metadata": {},
   "source": [
    "---\n",
    "*Report issues or give us feedback about this notebook [here](https://docs.google.com/forms/d/e/1FAIpQLSdMRX2hPqZyD8-argFJXxB3ABQdLk3aUH1CAfmMEtcFAlWzCw/viewform?usp=pp_url&entry.1771525592=Module%20Resources%20%28the%20Jupyter%20notebooks%2C%20PPTS%20or%20additional%20resources%29&entry.1364186163=Creating%20Bar%20Graphs).*\n",
    "\n",
    "---\n",
    "Back to [Lessons](https://github.com/pbeens/Data-Dunkers/blob/main/Lessons.ipynb)\n",
    "\n",
    "---\n",
    "This notebook has been adapted from... \n",
    "\n",
    "https://github.com/callysto/basketball-and-data-science/blob/main/content/02-visualizing-data.ipynb, with permission.\n"
   ]
  }
 ],
 "metadata": {
  "kernelspec": {
   "display_name": ".venv",
   "language": "python",
   "name": "python3"
  },
  "language_info": {
   "codemirror_mode": {
    "name": "ipython",
    "version": 3
   },
   "file_extension": ".py",
   "mimetype": "text/x-python",
   "name": "python",
   "nbconvert_exporter": "python",
   "pygments_lexer": "ipython3",
   "version": "3.11.4"
  },
  "orig_nbformat": 4
 },
 "nbformat": 4,
 "nbformat_minor": 2
}
