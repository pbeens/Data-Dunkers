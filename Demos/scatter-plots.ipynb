{
 "cells": [
  {
   "attachments": {},
   "cell_type": "markdown",
   "metadata": {},
   "source": [
    "# Creating Scatter Plots\n",
    "\n",
    "(Open in \n",
    "[Callysto](https://hub.callysto.ca/jupyter/hub/user-redirect/git-pull?repo=https://github.com/pbeens/Data-Dunkers&branch=main&subPath=Demos/scatter-plots.ipynb&depth=1) | [Colab](https://githubtocolab.com/pbeens/Data-Dunkers/blob/main/Demos/scatter-plots.ipynb))"
   ]
  },
  {
   "cell_type": "markdown",
   "metadata": {},
   "source": [
    "# Lesson Objectives"
   ]
  },
  {
   "cell_type": "markdown",
   "metadata": {},
   "source": [
    "By the end of this lesson, students will be able to:\n",
    "- Create scatter plots using Plotly Express to analyze relationships between two variables.\n",
    "- Utilize filtering to clean data and prepare it for visualization.\n",
    "- Customize scatter plot aesthetics by updating axis titles and employing method chaining to streamline code.\n",
    "- Interpret trends in data by incorporating trend lines using ordinary least squares (OLS) methods.\n",
    "- Apply color-coding to scatter plots to differentiate data points by categories such as season or age, enhancing the analysis.\n",
    "- Adjust the size of data points in scatter plots based on quantitative variables to reflect the magnitude of data points visually.\n",
    "- Analyze the relationship between various basketball statistics, such as assists and points per game, to understand player performance dynamics.\n",
    "- Develop a comprehensive understanding of data visualization techniques that allow for effective communication of complex data insights."
   ]
  },
  {
   "attachments": {},
   "cell_type": "markdown",
   "metadata": {},
   "source": [
    "# Getting and Cleaning Our Data"
   ]
  },
  {
   "attachments": {},
   "cell_type": "markdown",
   "metadata": {},
   "source": [
    "We're going to continue with the same importing and processing of the Pascal Siakam data, just like before:"
   ]
  },
  {
   "cell_type": "code",
   "execution_count": null,
   "metadata": {},
   "outputs": [],
   "source": [
    "import pandas as pd\n",
    "import plotly.express as px\n",
    "\n",
    "# URL of the data source\n",
    "url = 'https://raw.githubusercontent.com/pbeens/Data-Dunkers/main/Data/Pascal_Siakam.csv'\n",
    "\n",
    "# Read the data into a pandas dataframe\n",
    "df = pd.read_csv(url)\n",
    "\n",
    "# Filter to only use data <= 2022-23\n",
    "filter = df['SEASON_ID'] <= '2022-23'\n",
    "df = df[filter]\n",
    "\n",
    "# Display the dataframe\n",
    "display(df)"
   ]
  },
  {
   "attachments": {},
   "cell_type": "markdown",
   "metadata": {},
   "source": [
    "# Scatter Plots"
   ]
  },
  {
   "attachments": {},
   "cell_type": "markdown",
   "metadata": {},
   "source": [
    "Previously we used `px.bar()`. We now use `px.scatter()` for the scatter plot:"
   ]
  },
  {
   "cell_type": "code",
   "execution_count": null,
   "metadata": {},
   "outputs": [],
   "source": [
    "# Create a scatter plot using plotly express\n",
    "fig = px.scatter(df, \n",
    "  x='FGA', \n",
    "  y='FGM', \n",
    "  title='Siakam Field Goals versus Field Goal Attempts')\n",
    "\n",
    "fig.show()"
   ]
  },
  {
   "attachments": {},
   "cell_type": "markdown",
   "metadata": {},
   "source": [
    "Let's update our x- and y-axis labels to make our graph more understandable:"
   ]
  },
  {
   "cell_type": "code",
   "execution_count": null,
   "metadata": {},
   "outputs": [],
   "source": [
    "fig.update_xaxes(title='Field Goal Attempts')\n",
    "\n",
    "fig.update_yaxes(title='Field Goals Made')\n",
    "\n",
    "fig.show()"
   ]
  },
  {
   "attachments": {},
   "cell_type": "markdown",
   "metadata": {},
   "source": [
    "# Method Chaining"
   ]
  },
  {
   "attachments": {},
   "cell_type": "markdown",
   "metadata": {},
   "source": [
    "As an alternative to the method of updating the x- and y-axes tites used above (on separate lines), you can put them together using a technique called **method chaining**. It is a way of calling multiple methods on the same object in a single line of code. In this specific example, we can use method chaining like this:\n",
    "\n",
    "`fig.update_xaxes(title='Field Goal Attempts').update_yaxes(title='Field Goals Made')`\n",
    "\n",
    "The `update_xaxes()` and `update_yaxes()` methods are being called on the same `fig` object in a single line of code.\n",
    "\n",
    "It is totally your choice in which technique you'd like to use."
   ]
  },
  {
   "cell_type": "code",
   "execution_count": null,
   "metadata": {},
   "outputs": [],
   "source": [
    "fig = px.scatter(df, \n",
    "  x='FGA', \n",
    "  y='FGM', \n",
    "  title='Siakam Field Goals Made versus Field Goal Attempts')\n",
    "\n",
    "# Method chaining example\n",
    "fig.update_xaxes(title='Field Goal Attempts').update_yaxes(title='Field Goals Made')\n",
    "\n",
    "fig.show()"
   ]
  },
  {
   "cell_type": "markdown",
   "metadata": {},
   "source": [
    "You can even combine them like this, but this makes for a very long line:"
   ]
  },
  {
   "cell_type": "code",
   "execution_count": null,
   "metadata": {},
   "outputs": [],
   "source": [
    "fig = px.scatter(df, x='FGA', y='FGM', title='Siakam Field Goals Made versus Field Goal Attempts').update_xaxes(title='Field Goal Attempts').update_yaxes(title='Field Goals Made')\n",
    "\n",
    "fig.show()"
   ]
  },
  {
   "cell_type": "markdown",
   "metadata": {},
   "source": [
    "A more \"Pythonic\" way of doing the same thing is shown below, where you break the line up but put a backslash ('**\\\\**') at the end of each wrapped line:"
   ]
  },
  {
   "cell_type": "code",
   "execution_count": null,
   "metadata": {},
   "outputs": [],
   "source": [
    "fig = px.scatter(df, x='FGA', y='FGM', title='Siakam Field Goals Made versus Field Goal Attempts') \\\n",
    "    .update_xaxes(title='Field Goal Attempts') \\\n",
    "    .update_yaxes(title='Field Goals Made')\n",
    "\n",
    "fig.show()"
   ]
  },
  {
   "cell_type": "markdown",
   "metadata": {},
   "source": [
    "Again, it's totally your choice in which technique you'd like to use."
   ]
  },
  {
   "attachments": {},
   "cell_type": "markdown",
   "metadata": {},
   "source": [
    "# Trends Analysis"
   ]
  },
  {
   "attachments": {},
   "cell_type": "markdown",
   "metadata": {},
   "source": [
    "What conclusions can you draw from the graph above? \n",
    "\n",
    "To help us with that, let's add a line of best fit, which we call a trendline. We often use the ordinary least squares method of calculating when dawing a trendline, which we will do here:"
   ]
  },
  {
   "cell_type": "code",
   "execution_count": null,
   "metadata": {},
   "outputs": [],
   "source": [
    "fig = px.scatter(df, \n",
    "    x='FGA', \n",
    "    y='FGM', \n",
    "    title='Siakam Field Goals Made versus Field Goal Attempts', \n",
    "    trendline='ols')\n",
    "\n",
    "fig.update_xaxes(title='Field Goal Attempts')\n",
    "\n",
    "fig.update_yaxes(title='Field Goals Made')\n",
    "\n",
    "fig.show()\n"
   ]
  },
  {
   "attachments": {},
   "cell_type": "markdown",
   "metadata": {},
   "source": [
    "That makes it easier to draw a conclusion, doesn't it!"
   ]
  },
  {
   "attachments": {},
   "cell_type": "markdown",
   "metadata": {},
   "source": [
    "# Colour-coding the Data"
   ]
  },
  {
   "attachments": {},
   "cell_type": "markdown",
   "metadata": {},
   "source": [
    "To make the graph more interesting, we can also colour-code the data points by season, by making one little addition to the px.scatter() function:\n",
    "\n",
    "`color='Season'`"
   ]
  },
  {
   "cell_type": "code",
   "execution_count": null,
   "metadata": {},
   "outputs": [],
   "source": [
    "fig = px.scatter(df, \n",
    "    x='FGA', \n",
    "    y='FGM', \n",
    "    title='Siakam Field Goals Made versus Field Goal Attempts', \n",
    "    color='SEASON_ID') \n",
    "\n",
    "fig.update_xaxes(title='Field Goal Attempts').update_yaxes(title='Field Goals Made')\n",
    "\n",
    "fig.show()\n"
   ]
  },
  {
   "attachments": {},
   "cell_type": "markdown",
   "metadata": {},
   "source": [
    "# Changing the Size of the Data Points"
   ]
  },
  {
   "attachments": {},
   "cell_type": "markdown",
   "metadata": {},
   "source": [
    "To make it even more interesting, we can change the size of the data points so their size is proportional to one of the fields (columns) of data. Again, all it takes it a small change to the px.scatter() function:\n",
    "\n",
    "`size='FG'`"
   ]
  },
  {
   "cell_type": "code",
   "execution_count": null,
   "metadata": {},
   "outputs": [],
   "source": [
    "fig = px.scatter(df, \n",
    "    x='FGA', \n",
    "    y='FGM', \n",
    "    title='Siakam Field Goals versus Field Goal Attempts', \n",
    "    color='SEASON_ID', \n",
    "    size='FGM') \n",
    "\n",
    "fig.update_xaxes(title='Field Goal Attempts').update_yaxes(title='Field Goals')\n",
    "\n",
    "fig.show()"
   ]
  },
  {
   "attachments": {},
   "cell_type": "markdown",
   "metadata": {},
   "source": [
    "Cool, eh!"
   ]
  },
  {
   "attachments": {},
   "cell_type": "markdown",
   "metadata": {},
   "source": [
    "# Exercise"
   ]
  },
  {
   "attachments": {},
   "cell_type": "markdown",
   "metadata": {},
   "source": [
    "Create a scatter plot with assists per game `('AST')` on the x-axis, points per game `('PTS')` on the y-axis, and `color='AGE'`. Include a trendline.\n",
    "\n",
    "What do you observe about the relationship between these columns?"
   ]
  },
  {
   "cell_type": "code",
   "execution_count": null,
   "metadata": {},
   "outputs": [],
   "source": [
    "import pandas as pd\n",
    "import plotly.express as px\n",
    "\n",
    "url = 'https://raw.githubusercontent.com/pbeens/Data-Dunkers/main/Data/Pascal_Siakam.csv'\n",
    "df = pd.read_csv(url)\n",
    "\n",
    "# Enter the rest of the program below."
   ]
  },
  {
   "cell_type": "markdown",
   "metadata": {},
   "source": [
    "---\n",
    "*Report issues or give us feedback about this notebook [here](https://docs.google.com/forms/d/e/1FAIpQLSdMRX2hPqZyD8-argFJXxB3ABQdLk3aUH1CAfmMEtcFAlWzCw/viewform?usp=pp_url&entry.1771525592=Module%20Resources%20%28the%20Jupyter%20notebooks%2C%20PPTS%20or%20additional%20resources%29&entry.1364186163=Creating%20Scatter%20Plots).*\n",
    "\n",
    "---\n",
    "Back to [Lessons](https://github.com/pbeens/Data-Dunkers/blob/main/Lessons.ipynb)\n",
    "\n",
    "---\n",
    "This notebook has been adapted from... \n",
    "\n",
    "https://github.com/callysto/basketball-and-data-science/blob/main/content/02-visualizing-data.ipynb, with permission."
   ]
  }
 ],
 "metadata": {
  "kernelspec": {
   "display_name": ".venv",
   "language": "python",
   "name": "python3"
  },
  "language_info": {
   "codemirror_mode": {
    "name": "ipython",
    "version": 3
   },
   "file_extension": ".py",
   "mimetype": "text/x-python",
   "name": "python",
   "nbconvert_exporter": "python",
   "pygments_lexer": "ipython3",
   "version": "3.11.4"
  },
  "orig_nbformat": 4
 },
 "nbformat": 4,
 "nbformat_minor": 2
}
