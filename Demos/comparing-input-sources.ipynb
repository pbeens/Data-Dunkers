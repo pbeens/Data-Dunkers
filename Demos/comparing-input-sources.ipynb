{
 "cells": [
  {
   "cell_type": "markdown",
   "metadata": {},
   "source": [
    "# Comparing Common Input Sources"
   ]
  },
  {
   "cell_type": "markdown",
   "metadata": {},
   "source": [
    "## Lesson Objectives"
   ]
  },
  {
   "cell_type": "markdown",
   "metadata": {},
   "source": [
    "By the end of this lesson, students will be able to:\n",
    "- Import and manage data in a Jupyter Notebook using pandas from various sources, including direct entry, CSV files, Excel files, webpages, and Google Sheets."
   ]
  },
  {
   "cell_type": "markdown",
   "metadata": {},
   "source": [
    "## Introduction"
   ]
  },
  {
   "cell_type": "markdown",
   "metadata": {},
   "source": [
    "In this tutorial, we'll explore five different ways to input data into a Jupyter Notebook. We will cover importing data from within the notebook itself, from a CSV file, an Excel file, a webpage, and finally from a Google Sheet. Let's get started."
   ]
  },
  {
   "cell_type": "markdown",
   "metadata": {},
   "source": [
    "## Getting Data From Within the Notebook"
   ]
  },
  {
   "cell_type": "markdown",
   "metadata": {},
   "source": [
    "Our first example demonstrates how to input data directly within the Jupyter Notebook. This method is useful for small datasets or for testing purposes. Here, we define lists of x and y values and use them to create a simple line plot."
   ]
  },
  {
   "cell_type": "code",
   "execution_count": 2,
   "metadata": {},
   "outputs": [
    {
     "name": "stdout",
     "output_type": "stream",
     "text": [
      "   X   Y\n",
      "0  0   0\n",
      "1  1   1\n",
      "2  2   4\n",
      "3  3   9\n",
      "4  4  16\n",
      "5  5  25\n"
     ]
    }
   ],
   "source": [
    "import pandas as pd\n",
    "\n",
    "# Define the data\n",
    "x_data = [0, 1, 2, 3, 4, 5]\n",
    "y_data = [0, 1, 4, 9, 16, 25]\n",
    "\n",
    "# Create a DataFrame from the data\n",
    "df = pd.DataFrame({'X': x_data, \n",
    "                   'Y': y_data})\n",
    "\n",
    "# Display the DataFrame\n",
    "print(df)"
   ]
  },
  {
   "cell_type": "markdown",
   "metadata": {},
   "source": [
    "## Getting Data from a CSV File"
   ]
  },
  {
   "cell_type": "markdown",
   "metadata": {},
   "source": [
    "Next, we'll import data from a CSV file, a common format for data storage. We use the pandas library to read the CSV file into a DataFrame, which we can then display.\n",
    "\n",
    "CSV files are widely used in data science due to their simplicity and compatibility with various tools. The Pandas library makes it easy to load and work with this data format."
   ]
  },
  {
   "cell_type": "code",
   "execution_count": 3,
   "metadata": {},
   "outputs": [
    {
     "name": "stdout",
     "output_type": "stream",
     "text": [
      "   X   Y\n",
      "0  0   0\n",
      "1  1   1\n",
      "2  2   4\n",
      "3  3   9\n",
      "4  4  16\n",
      "5  5  25\n"
     ]
    }
   ],
   "source": [
    "import pandas as pd\n",
    "\n",
    "# Read the CSV file into a DataFrame named df\n",
    "url = 'https://raw.githubusercontent.com/pbeens/Data-Dunkers/main/Data/x-y-data.csv'\n",
    "df = pd.read_csv(url)\n",
    "\n",
    "# Display the DataFrame\n",
    "print(df)"
   ]
  },
  {
   "cell_type": "markdown",
   "metadata": {},
   "source": [
    "## Data from an Excel Spreadsheet"
   ]
  },
  {
   "cell_type": "markdown",
   "metadata": {},
   "source": [
    "For our third method, we'll load data from an Excel file. Excel is a popular tool for data management, and Pandas provides built-in support for reading Excel files just as we did with CSV files.\n",
    "\n",
    "By simply substituting read_csv with read_excel, you can easily import data from Excel spreadsheets, making this method both flexible and powerful."
   ]
  },
  {
   "cell_type": "code",
   "execution_count": 4,
   "metadata": {},
   "outputs": [
    {
     "name": "stdout",
     "output_type": "stream",
     "text": [
      "   X   Y\n",
      "0  0   0\n",
      "1  1   1\n",
      "2  2   4\n",
      "3  3   9\n",
      "4  4  16\n",
      "5  5  25\n"
     ]
    }
   ],
   "source": [
    "import pandas as pd\n",
    "\n",
    "# Read the Excel file into a DataFrame named df\n",
    "url = 'https://raw.githubusercontent.com/Data-Dunkers/data-dunkers-modules/main/data/x-y-data.xlsx'\n",
    "df = pd.read_excel(url)\n",
    "\n",
    "# Display the DataFrame\n",
    "print(df)"
   ]
  },
  {
   "cell_type": "markdown",
   "metadata": {},
   "source": [
    "## Getting Data from a Webpage"
   ]
  },
  {
   "cell_type": "markdown",
   "metadata": {},
   "source": [
    "Now let's move on to extracting data from a webpage. Web scraping is an invaluable skill for gathering data that's publicly available online. In this example, we'll use the Pandas read_html function to load a table directly from a webpage.\n",
    "\n",
    "With this method, we can easily import tabular data from any webpage, provided we correctly identify the table we want to use. This opens up a wide range of possibilities for data analysis."
   ]
  },
  {
   "cell_type": "code",
   "execution_count": 6,
   "metadata": {},
   "outputs": [
    {
     "name": "stdout",
     "output_type": "stream",
     "text": [
      "   X   Y\n",
      "0  0   0\n",
      "1  1   1\n",
      "2  2   4\n",
      "3  3   9\n",
      "4  4  16\n",
      "5  5  25\n"
     ]
    }
   ],
   "source": [
    "import pandas as pd\n",
    "\n",
    "# Read the HTML table into a DataFrame named df\n",
    "url = 'https://raw.githubusercontent.com/Data-Dunkers/data/main/demo/x-y-data.html'\n",
    "df = pd.read_html(url)[0]  # Index 0 is the first table\n",
    "\n",
    "# Display the DataFrame\n",
    "print(df)"
   ]
  },
  {
   "cell_type": "markdown",
   "metadata": {},
   "source": [
    "## Getting Data from a Google Sheet"
   ]
  },
  {
   "cell_type": "markdown",
   "metadata": {},
   "source": [
    "Finally, we'll demonstrate how to import data from a Google Sheet. This method is particularly useful for collaborative projects, as Google Sheets allow multiple users to edit and view the data in real-time.\n",
    "\n",
    "To use this method, ensure your Google Sheet is set to public access, and then treat it like any other CSV file. This approach seamlessly integrates cloud-based data into your workflow."
   ]
  },
  {
   "cell_type": "code",
   "execution_count": 8,
   "metadata": {},
   "outputs": [
    {
     "name": "stdout",
     "output_type": "stream",
     "text": [
      "   X   Y\n",
      "0  0   0\n",
      "1  1   1\n",
      "2  2   4\n",
      "3  3   9\n",
      "4  4  16\n",
      "5  5  25\n"
     ]
    }
   ],
   "source": [
    "import pandas as pd\n",
    "\n",
    "# Google Sheet URL variable, with modified /export?format=csv ending\n",
    "url = 'https://docs.google.com/spreadsheets/d/1ZULKhYzsMd4eYwiprsyGgE9Df3gaVtO8WRalUQDn-xE/export?format=csv'\n",
    "\n",
    "# Read the Google Sheet into a DataFrame named df\n",
    "df = pd.read_csv(url)\n",
    "\n",
    "# Display the DataFrame\n",
    "print(df)"
   ]
  }
 ],
 "metadata": {
  "kernelspec": {
   "display_name": ".venv",
   "language": "python",
   "name": "python3"
  },
  "language_info": {
   "codemirror_mode": {
    "name": "ipython",
    "version": 3
   },
   "file_extension": ".py",
   "mimetype": "text/x-python",
   "name": "python",
   "nbconvert_exporter": "python",
   "pygments_lexer": "ipython3",
   "version": "3.11.4"
  }
 },
 "nbformat": 4,
 "nbformat_minor": 2
}
