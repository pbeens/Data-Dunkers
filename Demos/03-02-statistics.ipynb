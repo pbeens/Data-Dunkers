{
 "cells": [
  {
   "cell_type": "markdown",
   "metadata": {},
   "source": [
    "# Statistics"
   ]
  },
  {
   "attachments": {},
   "cell_type": "markdown",
   "metadata": {},
   "source": [
    "This notebook has been adapted from... \n",
    "\n",
    "https://github.com/callysto/basketball-and-data-science/blob/main/content/03-statistics.ipynb, with permission.\n",
    "\n",
    "(Open in [Callysto](https://hub.callysto.ca/jupyter/hub/user-redirect/git-pull?repo=https://github.com/pbeens/Data-Analysis&branch=main&subPath=BADS/03-statistics/03-02-statistics.ipynb&depth=1) | [Colab](https://githubtocolab.com/pbeens/Data-Analysis/blob/main/BADS/03-statistics/03-02-statistics.ipynb))"
   ]
  },
  {
   "cell_type": "markdown",
   "metadata": {},
   "source": [
    "---\n",
    "\n",
    "Statistics are used in many fields of study to investigate why things happen, when they occur, and whether their reoccurrence is predictable. Some everyday examples of how statistics are used include¹:\n",
    "\n",
    "- **Biology**: Statistics can be used to analyze data from experiments and research studies in biology.\n",
    "- **Business growth**: Statistics can be used to analyze sales data and other business metrics to identify trends and opportunities for growth.\n",
    "- **Economics**: Statistics can be used to analyze economic data such as GDP, inflation rates, and unemployment rates.\n",
    "- **Farming & gardening**: Statistics can be used to analyze crop yields and other agricultural data.\n",
    "- **Groceries**: Statistics can be used to analyze sales data for grocery stores and other retailers.\n",
    "- **Housing**: Statistics can be used to analyze housing data such as home prices and rental rates.\n",
    "- **Infrastructure**: Statistics can be used to analyze data related to infrastructure such as traffic patterns and road conditions.\n",
    "- **Medicine**: Statistics can be used to analyze medical data such as patient outcomes and drug efficacy.\n",
    "- **Warranties**: Statistics can be used to analyze warranty claims data to identify trends and potential issues with products.\n",
    "- **Website performance**: Statistics can be used to analyze website traffic data and user behavior.\n",
    "\n",
    "1. Source: Conversation with Bing, 2023-07-10\n",
    "\n",
    "---\n",
    "\n",
    "Let's calculate some basic statistics,including mean, median, minimum, and maximum.\n",
    "\n",
    "Recalling the names of the columns in the Raptors file:\n",
    "\n",
    "|Column|Meaning|\n",
    "|-|-|\n",
    "|Age|Player's age on February 1 of the season|\n",
    "|Lg|League|\n",
    "|Pos|Position|\n",
    "|G|Games|\n",
    "|GS|Games Started|\n",
    "|MP|Minutes Played Per Game|\n",
    "|FG|Field Goals Per Game|\n",
    "|FGA|Field Goal Attempts Per Game|\n",
    "|FG%|Field Goal Percentage|\n",
    "|3P|3-Point Field Goals Per Game|\n",
    "|3PA|3-Point Field Goal Attempts Per Game|\n",
    "|3P%|3-Point Field Goal Percentage|\n",
    "|2P|2-Point Field Goals Per Game|\n",
    "|2PA|2-Point Field Goal Attempts Per Game|\n",
    "|2P%|2-Point Field Goal Percentage|\n",
    "|eFG%|Effective Field Goal Percentage*|\n",
    "|FT|Free Throws Per Game|\n",
    "|FTA|Free Throw Attempts Per Game|\n",
    "|FT%|Free Throw Percentage|\n",
    "|ORB|Offensive Rebounds Per Game|\n",
    "|DRB|Defensive Rebounds Per Game|\n",
    "|TRB|Total Rebounds Per Game|\n",
    "|AST|Assists Per Game|\n",
    "|STL|Steals Per Game|\n",
    "|BLK|Blocks Per Game|\n",
    "|TOV|Turnovers Per Game|\n",
    "|PF|Personal Fouls Per Game|\n",
    "|PTS|Points Per Game|\n",
    "\n",
    "<span style=\"font-size:10px\">*This statistic adjusts for the fact that a 3-point field goal is worth one more point than a 2-point field goal.</span>"
   ]
  },
  {
   "cell_type": "markdown",
   "metadata": {},
   "source": [
    "## min(), max(), median(), mean()"
   ]
  },
  {
   "cell_type": "markdown",
   "metadata": {},
   "source": [
    "Looking specifically at the Games column (G), let's calculate the minimum, maximum, mean, and median number of games played. "
   ]
  },
  {
   "cell_type": "code",
   "execution_count": null,
   "metadata": {},
   "outputs": [],
   "source": [
    "# Importing pandas and plotly.express libraries\n",
    "import pandas as pd\n",
    "\n",
    "# Reading the data from the url into a pandas dataframe\n",
    "url = 'https://raw.githubusercontent.com/pbeens/Data-Dunkers/main/Data/raptors-2023.csv'\n",
    "raptors_df = pd.read_csv(url)\n",
    "\n",
    "# minimum\n",
    "print('Minimum =', raptors_df['G'].min())\n",
    "\n",
    "# maximum\n",
    "print('Maximum =', raptors_df['G'].max())\n",
    "\n",
    "# mean\n",
    "print('Mean =', raptors_df['G'].mean())\n",
    "\n",
    "# median\n",
    "print('Median =', raptors_df['G'].median())"
   ]
  },
  {
   "cell_type": "markdown",
   "metadata": {},
   "source": [
    "# Exercise"
   ]
  },
  {
   "cell_type": "markdown",
   "metadata": {},
   "source": [
    "What is the average age of the Raptors? "
   ]
  },
  {
   "cell_type": "code",
   "execution_count": null,
   "metadata": {},
   "outputs": [],
   "source": [
    "# Write your program here."
   ]
  },
  {
   "cell_type": "markdown",
   "metadata": {},
   "source": [
    "# Supplemental"
   ]
  },
  {
   "cell_type": "markdown",
   "metadata": {},
   "source": [
    "## Average for all numbered columns"
   ]
  },
  {
   "cell_type": "markdown",
   "metadata": {},
   "source": [
    "What if we want to look at the averages of *all* the numbered columns? Simple!"
   ]
  },
  {
   "cell_type": "code",
   "execution_count": null,
   "metadata": {},
   "outputs": [],
   "source": [
    "display(raptors_df.mean(numeric_only = True).round(2))"
   ]
  },
  {
   "cell_type": "markdown",
   "metadata": {},
   "source": [
    "## All stats at once"
   ]
  },
  {
   "cell_type": "markdown",
   "metadata": {},
   "source": [
    "Display all avaialble statistics for all numberic columns (with `describe()`):"
   ]
  },
  {
   "cell_type": "code",
   "execution_count": null,
   "metadata": {},
   "outputs": [],
   "source": [
    "raptors_df.describe()"
   ]
  },
  {
   "cell_type": "markdown",
   "metadata": {},
   "source": [
    "What if we only want to look at one column?"
   ]
  },
  {
   "cell_type": "code",
   "execution_count": null,
   "metadata": {},
   "outputs": [],
   "source": [
    "display(raptors_df['G'].describe())"
   ]
  },
  {
   "cell_type": "markdown",
   "metadata": {},
   "source": [
    "## f-strings"
   ]
  },
  {
   "cell_type": "markdown",
   "metadata": {},
   "source": [
    "By using some advanced printing techniques in Python (called *f-strings*), we can make the data look better:"
   ]
  },
  {
   "cell_type": "code",
   "execution_count": null,
   "metadata": {},
   "outputs": [],
   "source": [
    "# minimum\n",
    "print(f\"Minimum = {raptors_df['G'].min():.0f}\")\n",
    "\n",
    "# maximum\n",
    "print(f\"Maximum = {raptors_df['G'].max():.0f}\")\n",
    "\n",
    "# mean\n",
    "print(f\"Mean = {raptors_df['G'].mean():.1f}\")\n",
    "\n",
    "# median\n",
    "print(f\"Median = {raptors_df['G'].median():.0f}\")"
   ]
  },
  {
   "cell_type": "markdown",
   "metadata": {},
   "source": [
    "---\n",
    "Back to [Lessons](https://github.com/pbeens/Data-Dunkers/blob/main/Lessons.md)"
   ]
  }
 ],
 "metadata": {
  "kernelspec": {
   "display_name": ".venv",
   "language": "python",
   "name": "python3"
  },
  "language_info": {
   "codemirror_mode": {
    "name": "ipython",
    "version": 3
   },
   "file_extension": ".py",
   "mimetype": "text/x-python",
   "name": "python",
   "nbconvert_exporter": "python",
   "pygments_lexer": "ipython3",
   "version": "3.11.4"
  },
  "orig_nbformat": 4
 },
 "nbformat": 4,
 "nbformat_minor": 2
}
