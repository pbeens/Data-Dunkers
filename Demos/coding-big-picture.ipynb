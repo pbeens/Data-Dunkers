{
 "cells": [
  {
   "cell_type": "markdown",
   "metadata": {},
   "source": [
    "# Coding Big Picture"
   ]
  },
  {
   "cell_type": "markdown",
   "metadata": {},
   "source": [
    "Open this notebook in [Callysto](https://hub.callysto.ca/jupyter/hub/user-redirect/git-pull?repo=https://github.com/pbeens/Data-Dunkers&branch=main&subPath=Demos/coding-big-picture.ipynb&depth=1) | [Colab](https://githubtocolab.com/pbeens/Data-Dunkers/blob/main/Demos/coding-big-picture.ipynb)."
   ]
  },
  {
   "cell_type": "markdown",
   "metadata": {},
   "source": [
    "## Lesson Objectives"
   ]
  },
  {
   "cell_type": "markdown",
   "metadata": {},
   "source": [
    "By the end of this lesson, students will be able to:\n",
    "\n",
    "- Utilize the IPO (Input, Process, Output) model to logically structure coding tasks, specifically by importing, manipulating, and visualizing data using variables and commands within a Jupyter Notebook environment.\n",
    "- Load real-world data into a DataFrame using the `pandas` library, and define and manage variables to store and organize this data effectively for further processing.\n",
    "- Apply data processing techniques, such as filtering datasets, and generate visual outputs using the `plotly.express` library to create meaningful data visualizations."
   ]
  },
  {
   "cell_type": "markdown",
   "metadata": {},
   "source": [
    "## IPO: Input"
   ]
  },
  {
   "cell_type": "code",
   "execution_count": null,
   "metadata": {},
   "outputs": [],
   "source": [
    "# Import necessary libraries\n",
    "import pandas as pd\n",
    "import plotly.express as px\n",
    "\n",
    "# Define the URL for Pascal Siakam's CSV data\n",
    "url = 'https://raw.githubusercontent.com/pbeens/Data-Dunkers/main/Data/Pascal_Siakam.csv'\n",
    "\n",
    "# Load the data from the CSV file into a DataFrame\n",
    "siakam_data = pd.read_csv(url)\n",
    "\n",
    "# Display the first few rows of the DataFrame to verify the data\n",
    "display(siakam_data)\n"
   ]
  },
  {
   "cell_type": "markdown",
   "metadata": {},
   "source": [
    "## IPO: Process"
   ]
  },
  {
   "cell_type": "code",
   "execution_count": null,
   "metadata": {},
   "outputs": [],
   "source": [
    "# Processing: Filter the data for seasons before 2023-24\n",
    "filtered_data = siakam_data[siakam_data['SEASON_ID'] < '2023-24']\n",
    "\n",
    "# Display the filtered DataFrame to verify the results\n",
    "display(filtered_data)\n"
   ]
  },
  {
   "cell_type": "markdown",
   "metadata": {},
   "source": [
    "## IPO: Output"
   ]
  },
  {
   "cell_type": "code",
   "execution_count": null,
   "metadata": {},
   "outputs": [],
   "source": [
    "# Output: Plotting MIN (Minutes Played) over the filtered seasons with X markers\n",
    "fig = px.line(\n",
    "    filtered_data, \n",
    "    x='SEASON_ID', \n",
    "    y='MIN', \n",
    "    title=\"Pascal Siakam's Minutes Played by Season\",\n",
    "    markers=True  # Add markers to the plot\n",
    ")\n",
    "\n",
    "# Customize the markers to be 'X'\n",
    "fig.update_traces(marker=dict(symbol='x'))\n",
    "\n",
    "# Display the plot\n",
    "fig.show()\n"
   ]
  },
  {
   "cell_type": "markdown",
   "metadata": {},
   "source": [
    "---\n",
    "Back to [Lessons](https://github.com/pbeens/Data-Dunkers/blob/main/Lessons.ipynb)"
   ]
  }
 ],
 "metadata": {
  "kernelspec": {
   "display_name": ".venv",
   "language": "python",
   "name": "python3"
  },
  "language_info": {
   "codemirror_mode": {
    "name": "ipython",
    "version": 3
   },
   "file_extension": ".py",
   "mimetype": "text/x-python",
   "name": "python",
   "nbconvert_exporter": "python",
   "pygments_lexer": "ipython3",
   "version": "3.11.4"
  }
 },
 "nbformat": 4,
 "nbformat_minor": 2
}
