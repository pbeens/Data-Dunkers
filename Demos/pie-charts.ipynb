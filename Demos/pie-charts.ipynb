{
 "cells": [
  {
   "cell_type": "markdown",
   "metadata": {},
   "source": [
    "# Creating Pie Charts"
   ]
  },
  {
   "attachments": {},
   "cell_type": "markdown",
   "metadata": {},
   "source": [
    "(Open in [Callysto](https://hub.callysto.ca/jupyter/hub/user-redirect/git-pull?repo=https://github.com/pbeens/Data-Dunkers&branch=main&subPath=Demos/pie-charts.ipynb&depth=1) | [Colab](https://githubtocolab.com/pbeens/Data-Dunkers/blob/main/Demos/pie-charts.ipynb))"
   ]
  },
  {
   "cell_type": "markdown",
   "metadata": {},
   "source": [
    "# Lesson Objectives"
   ]
  },
  {
   "cell_type": "markdown",
   "metadata": {},
   "source": [
    "By the end of this lesson, students will be able to:\n",
    "- Import data using the Pandas library and understand the steps involved in preparing data for analysis, including filtering data based on specific conditions.\n",
    "- Create pie charts using Plotly Express to visually represent data, learning how to set parameters like `values` for the segment sizes and `names` for the labels.\n",
    "- Utilize pie charts to analyze and display data distributions effectively, such as comparing contributions or proportions within a dataset.\n",
    "- Modify and customize data visualizations with titles and other attributes to enhance readability and presentation quality.\n",
    "- Apply data filtering techniques to exclude unwanted data from visualizations, such as national totals in a dataset focused on regional statistics.\n",
    "- Develop practical skills in data visualization with Python, enabling them to convey complex information succinctly and effectively through graphical representations."
   ]
  },
  {
   "attachments": {},
   "cell_type": "markdown",
   "metadata": {},
   "source": [
    "# Getting and Cleaning Our Data"
   ]
  },
  {
   "attachments": {},
   "cell_type": "markdown",
   "metadata": {},
   "source": [
    "We're going to continue with the same importing and processing of the Pascal Siakam data, just like before:"
   ]
  },
  {
   "cell_type": "code",
   "execution_count": null,
   "metadata": {},
   "outputs": [],
   "source": [
    "import pandas as pd\n",
    "import plotly.express as px\n",
    "\n",
    "# URL of the data source\n",
    "url = 'https://raw.githubusercontent.com/pbeens/Data-Dunkers/main/Data/Pascal_Siakam.csv'\n",
    "\n",
    "# Read the data into a pandas dataframe\n",
    "df = pd.read_csv(url)\n",
    "\n",
    "# Filter to only use data <= 2022-23\n",
    "filter = df['SEASON_ID'] <= '2022-23'\n",
    "df = df[filter]\n",
    "\n",
    "# Display the dataframe\n",
    "display(df)"
   ]
  },
  {
   "attachments": {},
   "cell_type": "markdown",
   "metadata": {},
   "source": [
    "# Pie Charts"
   ]
  },
  {
   "attachments": {},
   "cell_type": "markdown",
   "metadata": {},
   "source": [
    "Here's an example of a pie chart, which at this point should be fairly self-explanatory. \n",
    "\n",
    "Instead of `x=` or `y=`, we're using `values=`. You'll also see `names=`, which is shown when you hover the cursor over the chart."
   ]
  },
  {
   "cell_type": "code",
   "execution_count": null,
   "metadata": {},
   "outputs": [],
   "source": [
    "# Create a pie chart using plotly express\n",
    "fig = px.pie(df, \n",
    "    values='FGM', \n",
    "    names='SEASON_ID', \n",
    "    title='Siakam Field Goals by Season')\n",
    "\n",
    "fig.show()"
   ]
  },
  {
   "attachments": {},
   "cell_type": "markdown",
   "metadata": {},
   "source": [
    "# Exercise"
   ]
  },
  {
   "attachments": {},
   "cell_type": "markdown",
   "metadata": {},
   "source": [
    "Using the population found at the given URL, plot a pie chart of the provinces in the 2nd quarter of 2023. \n",
    "\n",
    "Do NOT include the data for Canada.\n",
    "\n",
    "Be sure to include an appropriate title."
   ]
  },
  {
   "cell_type": "code",
   "execution_count": null,
   "metadata": {},
   "outputs": [],
   "source": [
    "import pandas as pd\n",
    "import plotly.express as px\n",
    "\n",
    "url = 'https://raw.githubusercontent.com/pbeens/Data-Dunkers/main/Data/provinces-populations.csv'\n",
    "\n",
    "# Enter the rest of the program below.\n"
   ]
  },
  {
   "cell_type": "markdown",
   "metadata": {},
   "source": [
    "---\n",
    "*Report issues or give us feedback about this notebook [here](https://docs.google.com/forms/d/e/1FAIpQLSdMRX2hPqZyD8-argFJXxB3ABQdLk3aUH1CAfmMEtcFAlWzCw/viewform?usp=pp_url&entry.1771525592=Module%20Resources%20%28the%20Jupyter%20notebooks%2C%20PPTS%20or%20additional%20resources%29&entry.1364186163=Creating%20Pie%20Charts).*\n",
    "\n",
    "---\n",
    "Back to [Lessons](https://github.com/pbeens/Data-Dunkers/blob/main/Lessons.ipynb)\n",
    "\n",
    "---\n",
    "This notebook has been adapted from... \n",
    "\n",
    "https://github.com/callysto/basketball-and-data-science/blob/main/content/02-visualizing-data.ipynb, with permission."
   ]
  }
 ],
 "metadata": {
  "kernelspec": {
   "display_name": ".venv",
   "language": "python",
   "name": "python3"
  },
  "language_info": {
   "codemirror_mode": {
    "name": "ipython",
    "version": 3
   },
   "file_extension": ".py",
   "mimetype": "text/x-python",
   "name": "python",
   "nbconvert_exporter": "python",
   "pygments_lexer": "ipython3",
   "version": "3.11.4"
  },
  "orig_nbformat": 4
 },
 "nbformat": 4,
 "nbformat_minor": 2
}
