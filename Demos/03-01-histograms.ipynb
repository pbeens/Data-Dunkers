{
 "cells": [
  {
   "attachments": {},
   "cell_type": "markdown",
   "metadata": {},
   "source": [
    "This notebook has been adapted from... \n",
    "\n",
    "https://github.com/callysto/basketball-and-data-science/blob/main/content/03-statistics.ipynb, with permission.\n",
    "\n",
    "(Open in \n",
    "[Callysto](https://hub.callysto.ca/jupyter/hub/user-redirect/git-pull?repo=https://github.com/pbeens/Data-Analysis&branch=main&subPath=BADS/03-statistics/03-01-histograms.ipynb&depth=1) | [Colab](https://githubtocolab.com/pbeens/Data-Analysis/blob/main/BADS/03-statistics/03-01-histograms.ipynb))\n",
    "\n",
    "---\n",
    "\n",
    "Statistics are used in many fields of study to investigate why things happen, when they occur, and whether their reoccurrence is predictable. Some everyday examples of how statistics are used include¹:\n",
    "\n",
    "- **Biology**: Statistics can be used to analyze data from experiments and research studies in biology.\n",
    "- **Business growth**: Statistics can be used to analyze sales data and other business metrics to identify trends and opportunities for growth.\n",
    "- **Economics**: Statistics can be used to analyze economic data such as GDP, inflation rates, and unemployment rates.\n",
    "- **Farming & gardening**: Statistics can be used to analyze crop yields and other agricultural data.\n",
    "- **Groceries**: Statistics can be used to analyze sales data for grocery stores and other retailers.\n",
    "- **Housing**: Statistics can be used to analyze housing data such as home prices and rental rates.\n",
    "- **Infrastructure**: Statistics can be used to analyze data related to infrastructure such as traffic patterns and road conditions.\n",
    "- **Medicine**: Statistics can be used to analyze medical data such as patient outcomes and drug efficacy.\n",
    "- **Warranties**: Statistics can be used to analyze warranty claims data to identify trends and potential issues with products.\n",
    "- **Website performance**: Statistics can be used to analyze website traffic data and user behavior.\n",
    "\n",
    "1. Source: Conversation with Bing, 2023-07-10\n",
    "\n",
    "---"
   ]
  },
  {
   "attachments": {},
   "cell_type": "markdown",
   "metadata": {},
   "source": [
    "# Statistics"
   ]
  },
  {
   "attachments": {},
   "cell_type": "markdown",
   "metadata": {},
   "source": [
    "Let's work with Raptors data from 2023:"
   ]
  },
  {
   "cell_type": "code",
   "execution_count": null,
   "metadata": {},
   "outputs": [],
   "source": [
    "# Importing pandas and plotly.express libraries\n",
    "import pandas as pd\n",
    "import plotly.express as px\n",
    "\n",
    "# Reading the data from the url into a pandas dataframe\n",
    "url = 'https://raw.githubusercontent.com/pbeens/Data-Analysis/main/Data/raptors-2023.csv'\n",
    "raptors_df = pd.read_csv(url)"
   ]
  },
  {
   "cell_type": "markdown",
   "metadata": {},
   "source": [
    "Let's take a quick look at the top of the data:"
   ]
  },
  {
   "cell_type": "code",
   "execution_count": null,
   "metadata": {},
   "outputs": [],
   "source": [
    "display(raptors_df.head())"
   ]
  },
  {
   "cell_type": "markdown",
   "metadata": {},
   "source": [
    "...and the names of the columns:"
   ]
  },
  {
   "cell_type": "code",
   "execution_count": null,
   "metadata": {},
   "outputs": [],
   "source": [
    "display(raptors_df.columns)"
   ]
  },
  {
   "cell_type": "markdown",
   "metadata": {},
   "source": [
    "...and just these two columns:"
   ]
  },
  {
   "cell_type": "code",
   "execution_count": null,
   "metadata": {},
   "outputs": [],
   "source": [
    "display(raptors_df[['Pos', 'FG%']])"
   ]
  },
  {
   "cell_type": "markdown",
   "metadata": {},
   "source": [
    "...and the unique values of the Position column (with `.unique()`):"
   ]
  },
  {
   "cell_type": "code",
   "execution_count": null,
   "metadata": {},
   "outputs": [],
   "source": [
    "display(raptors_df['Pos'].unique())"
   ]
  },
  {
   "cell_type": "markdown",
   "metadata": {},
   "source": [
    "...and how many of each? (with `value_counts()`)"
   ]
  },
  {
   "cell_type": "code",
   "execution_count": null,
   "metadata": {},
   "outputs": [],
   "source": [
    "display(raptors_df['Pos'].value_counts())"
   ]
  },
  {
   "cell_type": "markdown",
   "metadata": {},
   "source": [
    "# Histograms"
   ]
  },
  {
   "cell_type": "markdown",
   "metadata": {},
   "source": [
    "Let's introduce another type of visualization, called a histogram. \n",
    "\n",
    "A histogram is like a bar graph that groups data into \"bins\" and displays how many values are in each bin.\n",
    "\n",
    "Let's look at how well the Raptors do with field goals (FG%):"
   ]
  },
  {
   "cell_type": "code",
   "execution_count": null,
   "metadata": {},
   "outputs": [],
   "source": [
    "px.histogram(raptors_df, \n",
    "    x='FG%', \n",
    "    title='Raptors Field Goal Percentage')"
   ]
  },
  {
   "cell_type": "markdown",
   "metadata": {},
   "source": [
    "Let's the number of bins (with `nbins=15`):"
   ]
  },
  {
   "cell_type": "code",
   "execution_count": null,
   "metadata": {},
   "outputs": [],
   "source": [
    "px.histogram(raptors_df, \n",
    "    x='FG%', \n",
    "    title='Raptors Field Goal Percentage', \n",
    "    nbins=15)"
   ]
  },
  {
   "cell_type": "markdown",
   "metadata": {},
   "source": [
    "Just like with other visualizations we can use the color attribute to divide the data by another column from our dataset. Clicking on the labels in the legend will turn those traces on an off."
   ]
  },
  {
   "cell_type": "code",
   "execution_count": null,
   "metadata": {},
   "outputs": [],
   "source": [
    "px.histogram(raptors_df, \n",
    "    x='FG%', \n",
    "    title='Raptors Field Goal Percentage by Position', \n",
    "    color='Pos')"
   ]
  },
  {
   "cell_type": "markdown",
   "metadata": {},
   "source": [
    "# Exercise"
   ]
  },
  {
   "cell_type": "markdown",
   "metadata": {},
   "source": [
    "Create a histogram that shows the free throw percent. Colour by age. "
   ]
  },
  {
   "cell_type": "code",
   "execution_count": null,
   "metadata": {},
   "outputs": [],
   "source": [
    "# Importing pandas and plotly.express libraries\n",
    "import pandas as pd\n",
    "\n",
    "# Reading the data from the url into a pandas dataframe\n",
    "url = 'https://raw.githubusercontent.com/pbeens/Data-Analysis/main/Data/raptors-2023.csv'\n",
    "raptors_df = pd.read_csv(url)\n",
    "\n",
    "# Write your program here\n",
    "\n"
   ]
  },
  {
   "cell_type": "markdown",
   "metadata": {},
   "source": [
    "---\n",
    "Back to [Lessons](https://github.com/pbeens/Data-Dunkers/blob/main/Lessons.md)"
   ]
  }
 ],
 "metadata": {
  "kernelspec": {
   "display_name": ".venv",
   "language": "python",
   "name": "python3"
  },
  "language_info": {
   "codemirror_mode": {
    "name": "ipython",
    "version": 3
   },
   "file_extension": ".py",
   "mimetype": "text/x-python",
   "name": "python",
   "nbconvert_exporter": "python",
   "pygments_lexer": "ipython3",
   "version": "3.11.4"
  },
  "orig_nbformat": 4
 },
 "nbformat": 4,
 "nbformat_minor": 2
}
