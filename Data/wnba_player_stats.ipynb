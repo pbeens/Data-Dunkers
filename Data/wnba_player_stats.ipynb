{
 "cells": [
  {
   "cell_type": "markdown",
   "metadata": {},
   "source": [
    "## WNBA Player Stats 2024\n",
    "\n",
    "RUN THIS PROGRAM BEFORE EACH WORKSHOP TO GET THE LATEST DATA.\n",
    "\n",
    "THE PROGRAM PROMPTS FOR YOU TO PRESS \"SHOW MORE\" TWICE."
   ]
  },
  {
   "cell_type": "code",
   "execution_count": 1,
   "metadata": {},
   "outputs": [
    {
     "name": "stdout",
     "output_type": "stream",
     "text": [
      "Number of player names extracted: 110\n",
      "['Arike Ogunbowale', 'Kahleah Copper', \"A'ja Wilson\", 'Dearica Hamby', 'Napheesa Collier', 'Rhyne Howard', 'Jackie Young', 'DeWanna Bonner', 'Breanna Stewart', 'Diana Taurasi', 'Alanna Smith', 'Kelsey Plum', 'Kia Nurse', 'Jonquel Jones', 'Allisha Gray', 'DiJonai Carrington', 'Caitlin Clark', 'Jewell Loyd', 'Alyssa Thomas', 'Marina Mabrey', 'Ariel Atkins', 'Sabrina Ionescu', 'Diamond DeShields', 'Skylar Diggins-Smith', 'Betnijah Laney-Hamilton', 'Kayla McBride', 'Tina Charles', 'Cheyenne Parker-Tyus', 'Ezi Magbegor', 'Karlie Samuelson', 'Tyasha Harris', 'Elizabeth Williams', 'Courtney Williams', 'Lexie Brown', 'Kelsey Mitchell', 'Shakira Austin', 'Angel Reese', 'Teaira McCowan', 'Dana Evans', 'Alysha Clark', 'Natasha Cloud', 'NaLyssa Smith', 'Rickea Jackson', 'Maddy Siegrist', 'Aliyah Boston', 'Stefanie Dolson', 'Brittney Sykes', 'Rebecca Allen', 'Sophie Cunningham', 'Crystal Dangerfield', 'Chennedy Carter', 'Haley Jones', 'Brionna Jones', 'Mercedes Russell', 'Kalani Brown', 'Sevgi Uzun', 'Temi Fagbenle', 'Natisha Hiedeman', 'Cameron Brink', 'Aaliyah Edwards', 'Julie Vanloo', 'Layshia Clarendon', 'Megan Gustafson', 'Courtney Vandersloot', 'Katie Lou Samuelson', 'Shatori Walker-Kimbrough', 'Diamond Miller', 'Myisha Hines-Allen', 'Jordan Horston', 'Rachel Banham', 'Kristy Wallace', 'Bridget Carleton', 'Sami Whitcomb', 'Kayla Thornton', 'Erica Wheeler', 'Natasha Mack', 'Moriah Jefferson', 'Victoria Vivians', 'Lindsay Allen', 'Sug Sutton', 'Olivia Nelson-Ododa', 'Kiah Stokes', 'Nyara Sabally', 'Jacy Sheldon', 'Ivana Dojkic', 'Kennedy Burke', 'Michaela Onyenwere', 'Zia Cooke', 'Alissa Pili', 'Leonie Fiebich', 'Naz Hillmon', 'Stephanie Soares', 'Aerial Powers', 'Tiffany Mitchell', 'DiDi Richards', 'Sydney Colson', 'Nia Coffey', 'Astou Ndour-Fall', 'Stephanie Talbot', 'Cecilia Zandalasini', 'Liz Dixon', 'Laeticia Amihere', 'Kiana Williams', 'Dulcy Fankam Mendjiadeu', 'Brianna Turner', 'Mikiah Herbert Harrigan', 'Aari McDonald', 'Lou Lopez Senechal', 'Li Yueru', 'Marquesha Davis']\n",
      "                        Name POS  GP   MIN   PTS  FGM   FGA   FG%  3PM   3PA  \\\n",
      "0           Arike Ogunbowale   G   2  39.0  30.0  9.5  25.5  37.3  4.0  10.0   \n",
      "1             Kahleah Copper   G   2  31.5  28.5  9.0  19.5  46.2  3.0   6.0   \n",
      "2                A'ja Wilson   C   2  33.5  26.0  9.5  21.0  45.2  0.5   2.0   \n",
      "3              Dearica Hamby   F   2  35.5  24.5  9.5  15.5  61.3  1.0   2.0   \n",
      "4           Napheesa Collier   F   2  37.5  24.5  9.5  20.5  46.3  1.0   2.5   \n",
      "..                       ...  ..  ..   ...   ...  ...   ...   ...  ...   ...   \n",
      "105  Mikiah Herbert Harrigan   F   2   7.0   0.0  0.0   2.5   0.0  0.0   1.5   \n",
      "106            Aari McDonald   G   2   8.0   0.0  0.0   2.0   0.0  0.0   1.5   \n",
      "107       Lou Lopez Senechal   G   2   4.0   0.0  0.0   0.0   0.0  0.0   0.0   \n",
      "108                 Li Yueru   C   2   6.0   0.0  0.0   1.0   0.0  0.0   0.0   \n",
      "109          Marquesha Davis   G   3   2.3   0.0  0.0   0.3   0.0  0.0   0.0   \n",
      "\n",
      "      3P%  FTM  FTA    FT%   REB  AST  STL  BLK   TO  \n",
      "0    40.0  7.0  7.0  100.0   4.0  5.0  2.5  0.0  3.0  \n",
      "1    50.0  7.5  9.0   83.3   5.0  2.5  0.0  0.0  2.0  \n",
      "2    25.0  6.5  7.5   86.7  11.5  3.0  2.0  2.5  1.5  \n",
      "3    50.0  4.5  9.5   47.4  11.5  2.0  2.5  0.0  2.0  \n",
      "4    40.0  4.5  5.0   90.0  10.5  2.5  3.5  2.0  3.5  \n",
      "..    ...  ...  ...    ...   ...  ...  ...  ...  ...  \n",
      "105   0.0  0.0  0.0    0.0   1.0  0.5  1.0  0.5  0.0  \n",
      "106   0.0  0.0  0.0    0.0   0.0  2.5  0.5  0.0  0.5  \n",
      "107   0.0  0.0  0.0    0.0   0.5  0.5  0.0  0.0  0.0  \n",
      "108   0.0  0.0  0.0    0.0   2.0  0.0  0.0  0.0  1.0  \n",
      "109   0.0  0.0  0.0    0.0   0.3  0.0  0.0  0.0  0.0  \n",
      "\n",
      "[110 rows x 19 columns]\n"
     ]
    },
    {
     "name": "stderr",
     "output_type": "stream",
     "text": [
      "C:\\Users\\Peter\\AppData\\Local\\Temp\\ipykernel_65684\\1150218437.py:49: FutureWarning: Passing literal html to 'read_html' is deprecated and will be removed in a future version. To read from a literal string, wrap it in a 'StringIO' object.\n",
      "  tables = pd.read_html(html_source)\n"
     ]
    }
   ],
   "source": [
    "\"\"\"\n",
    "Program: WNBA Player Stats Scraper\n",
    "Author: Peter Beens\n",
    "Date: 2024-05-19\n",
    "Description: This program scrapes WNBA player statistics from ESPN's website using Selenium and Pandas.\n",
    "             It initializes a WebDriver, navigates to the stats page, and allows the user to manually\n",
    "             interact with the page to load additional data. The program then extracts player names and\n",
    "             their statistics, merges the data into a single DataFrame, and saves it to a CSV file.\n",
    "Usage: Run the script in an environment with Selenium, Pandas, and a WebDriver installed. Ensure geckodriver\n",
    "       is installed and in your PATH for Firefox.\n",
    "Dependencies: \n",
    "    - selenium\n",
    "    - pandas\n",
    "    - time\n",
    "Notes: \n",
    "    - Ensure you have the necessary WebDriver installed (geckodriver for Firefox).\n",
    "    - Manual interaction is required to load additional data by pressing the 'Show More' button twice.\n",
    "\"\"\"\n",
    "\n",
    "import time\n",
    "import pandas as pd\n",
    "from selenium import webdriver\n",
    "from selenium.webdriver.common.by import By\n",
    "\n",
    "# Initialize the WebDriver for Firefox. Ensure geckodriver is installed and in your PATH.\n",
    "wd = webdriver.Firefox()\n",
    "\n",
    "# Define the URL to scrape\n",
    "url = \"https://www.espn.com/wnba/stats/player/_/season/2024/seasontype/2\"\n",
    "\n",
    "# Open the URL in the WebDriver\n",
    "wd.get(url)\n",
    "\n",
    "# Pause to allow manual interaction\n",
    "input(\"Press Enter after pressing 'Show More' button twice...\")\n",
    "\n",
    "# Extract the player names using Selenium by locating elements that match the given XPath\n",
    "player_elements = wd.find_elements(By.XPATH, \"//tr[contains(@class, 'Table__TR')]//td[2]//a\")\n",
    "\n",
    "# Extract the text from each WebElement and store it in a list\n",
    "names = [element.text for element in player_elements if element.text]\n",
    "\n",
    "# Print the number of player names extracted and the player names themselves for verification\n",
    "print(f\"Number of player names extracted: {len(names)}\")\n",
    "print(names)\n",
    "\n",
    "# Use pandas to read the HTML tables from the webpage source fetched by Selenium\n",
    "html_source = wd.page_source\n",
    "tables = pd.read_html(html_source)\n",
    "\n",
    "# Print the number of tables found on the webpage for verification\n",
    "# print(f\"Number of tables found: {len(tables)}\")\n",
    "\n",
    "# Assuming the first table contains 'RK' and 'NAME' columns, and the second table contains the rest of the statistics\n",
    "players = tables[0]\n",
    "stats = tables[1]\n",
    "\n",
    "# Drop the 'RK' column from the players DataFrame\n",
    "players = players.drop(columns=['RK'])\n",
    "\n",
    "# Add the extracted player names to the players DataFrame\n",
    "players['Name'] = names\n",
    "\n",
    "# Merge the players and stats DataFrames on their index to create a complete dataset\n",
    "df = pd.concat([players, stats], axis=1)\n",
    "\n",
    "# Display the final DataFrame to ensure correctness\n",
    "print(df)\n",
    "\n",
    "# Save the DataFrame to a CSV file named 'wnba_player_stats_2024.csv'\n",
    "df.to_csv('wnba_player_stats_2024.csv', index=False)\n",
    "\n",
    "# Close the WebDriver\n",
    "wd.quit()\n"
   ]
  },
  {
   "cell_type": "markdown",
   "metadata": {},
   "source": [
    "## Combine All Years of WNBA Player Stats\n",
    "\n",
    "RUN THIS PROGRAM BEFORE EACH WORKSHOP TO ADD THE LATEST DATA."
   ]
  },
  {
   "cell_type": "code",
   "execution_count": 2,
   "metadata": {},
   "outputs": [
    {
     "name": "stdout",
     "output_type": "stream",
     "text": [
      "Files have been successfully combined and saved to 'wnba_player_stats_all.csv'.\n"
     ]
    }
   ],
   "source": [
    "import pandas as pd\n",
    "import glob\n",
    "\n",
    "# Define the column order\n",
    "column_order = ['Name', 'Year', 'POS', 'GP', 'MIN', 'PTS', 'FGM', 'FGA', 'FG%', '3PM', '3PA', '3P%', 'FTM', 'FTA', 'FT%', 'REB', 'AST', 'STL', 'BLK', 'TO']\n",
    "\n",
    "# Initialize an empty list to hold DataFrames\n",
    "all_data = []\n",
    "\n",
    "# Use glob to get all filenames matching the pattern\n",
    "file_pattern = \"wnba_player_stats_*.csv\"\n",
    "files = glob.glob(file_pattern)\n",
    "\n",
    "# Iterate through the list of files\n",
    "for file in files:\n",
    "    # Read the CSV file into a DataFrame\n",
    "    df = pd.read_csv(file)\n",
    "    \n",
    "    # Append the DataFrame to the list\n",
    "    all_data.append(df)\n",
    "\n",
    "# Concatenate all DataFrames in the list\n",
    "combined_df = pd.concat(all_data, ignore_index=True)\n",
    "\n",
    "# Reorder the columns\n",
    "combined_df = combined_df[column_order]\n",
    "\n",
    "# Save the combined DataFrame to a new CSV file\n",
    "combined_df.to_csv('wnba_player_stats_all.csv', index=False)\n",
    "\n",
    "print(\"Files have been successfully combined and saved to 'wnba_player_stats_all.csv'.\")\n"
   ]
  },
  {
   "cell_type": "markdown",
   "metadata": {},
   "source": [
    "## Get All Years of WNBA Player Stats\n",
    "\n",
    "ONLY RUN ONCE!"
   ]
  },
  {
   "cell_type": "code",
   "execution_count": 4,
   "metadata": {},
   "outputs": [
    {
     "name": "stdout",
     "output_type": "stream",
     "text": [
      "Scraping data for the year 2007...\n"
     ]
    },
    {
     "name": "stderr",
     "output_type": "stream",
     "text": [
      "C:\\Users\\Peter\\AppData\\Local\\Temp\\ipykernel_62244\\485486024.py:27: FutureWarning: Passing literal html to 'read_html' is deprecated and will be removed in a future version. To read from a literal string, wrap it in a 'StringIO' object.\n",
      "  tables = pd.read_html(html_source)\n"
     ]
    },
    {
     "name": "stdout",
     "output_type": "stream",
     "text": [
      "Scraping data for the year 2008...\n"
     ]
    },
    {
     "name": "stderr",
     "output_type": "stream",
     "text": [
      "C:\\Users\\Peter\\AppData\\Local\\Temp\\ipykernel_62244\\485486024.py:27: FutureWarning: Passing literal html to 'read_html' is deprecated and will be removed in a future version. To read from a literal string, wrap it in a 'StringIO' object.\n",
      "  tables = pd.read_html(html_source)\n"
     ]
    },
    {
     "name": "stdout",
     "output_type": "stream",
     "text": [
      "Scraping data for the year 2009...\n"
     ]
    },
    {
     "name": "stderr",
     "output_type": "stream",
     "text": [
      "C:\\Users\\Peter\\AppData\\Local\\Temp\\ipykernel_62244\\485486024.py:27: FutureWarning: Passing literal html to 'read_html' is deprecated and will be removed in a future version. To read from a literal string, wrap it in a 'StringIO' object.\n",
      "  tables = pd.read_html(html_source)\n"
     ]
    },
    {
     "name": "stdout",
     "output_type": "stream",
     "text": [
      "Scraping data for the year 2010...\n"
     ]
    },
    {
     "name": "stderr",
     "output_type": "stream",
     "text": [
      "C:\\Users\\Peter\\AppData\\Local\\Temp\\ipykernel_62244\\485486024.py:27: FutureWarning: Passing literal html to 'read_html' is deprecated and will be removed in a future version. To read from a literal string, wrap it in a 'StringIO' object.\n",
      "  tables = pd.read_html(html_source)\n"
     ]
    },
    {
     "name": "stdout",
     "output_type": "stream",
     "text": [
      "Scraping data for the year 2011...\n"
     ]
    },
    {
     "name": "stderr",
     "output_type": "stream",
     "text": [
      "C:\\Users\\Peter\\AppData\\Local\\Temp\\ipykernel_62244\\485486024.py:27: FutureWarning: Passing literal html to 'read_html' is deprecated and will be removed in a future version. To read from a literal string, wrap it in a 'StringIO' object.\n",
      "  tables = pd.read_html(html_source)\n"
     ]
    },
    {
     "name": "stdout",
     "output_type": "stream",
     "text": [
      "Scraping data for the year 2012...\n"
     ]
    },
    {
     "name": "stderr",
     "output_type": "stream",
     "text": [
      "C:\\Users\\Peter\\AppData\\Local\\Temp\\ipykernel_62244\\485486024.py:27: FutureWarning: Passing literal html to 'read_html' is deprecated and will be removed in a future version. To read from a literal string, wrap it in a 'StringIO' object.\n",
      "  tables = pd.read_html(html_source)\n"
     ]
    },
    {
     "name": "stdout",
     "output_type": "stream",
     "text": [
      "Scraping data for the year 2013...\n"
     ]
    },
    {
     "name": "stderr",
     "output_type": "stream",
     "text": [
      "C:\\Users\\Peter\\AppData\\Local\\Temp\\ipykernel_62244\\485486024.py:27: FutureWarning: Passing literal html to 'read_html' is deprecated and will be removed in a future version. To read from a literal string, wrap it in a 'StringIO' object.\n",
      "  tables = pd.read_html(html_source)\n"
     ]
    },
    {
     "name": "stdout",
     "output_type": "stream",
     "text": [
      "Scraping data for the year 2014...\n"
     ]
    },
    {
     "name": "stderr",
     "output_type": "stream",
     "text": [
      "C:\\Users\\Peter\\AppData\\Local\\Temp\\ipykernel_62244\\485486024.py:27: FutureWarning: Passing literal html to 'read_html' is deprecated and will be removed in a future version. To read from a literal string, wrap it in a 'StringIO' object.\n",
      "  tables = pd.read_html(html_source)\n"
     ]
    },
    {
     "name": "stdout",
     "output_type": "stream",
     "text": [
      "Scraping data for the year 2015...\n"
     ]
    },
    {
     "name": "stderr",
     "output_type": "stream",
     "text": [
      "C:\\Users\\Peter\\AppData\\Local\\Temp\\ipykernel_62244\\485486024.py:27: FutureWarning: Passing literal html to 'read_html' is deprecated and will be removed in a future version. To read from a literal string, wrap it in a 'StringIO' object.\n",
      "  tables = pd.read_html(html_source)\n"
     ]
    },
    {
     "name": "stdout",
     "output_type": "stream",
     "text": [
      "Scraping data for the year 2016...\n"
     ]
    },
    {
     "name": "stderr",
     "output_type": "stream",
     "text": [
      "C:\\Users\\Peter\\AppData\\Local\\Temp\\ipykernel_62244\\485486024.py:27: FutureWarning: Passing literal html to 'read_html' is deprecated and will be removed in a future version. To read from a literal string, wrap it in a 'StringIO' object.\n",
      "  tables = pd.read_html(html_source)\n"
     ]
    },
    {
     "name": "stdout",
     "output_type": "stream",
     "text": [
      "Scraping data for the year 2017...\n"
     ]
    },
    {
     "name": "stderr",
     "output_type": "stream",
     "text": [
      "C:\\Users\\Peter\\AppData\\Local\\Temp\\ipykernel_62244\\485486024.py:27: FutureWarning: Passing literal html to 'read_html' is deprecated and will be removed in a future version. To read from a literal string, wrap it in a 'StringIO' object.\n",
      "  tables = pd.read_html(html_source)\n"
     ]
    },
    {
     "name": "stdout",
     "output_type": "stream",
     "text": [
      "Scraping data for the year 2018...\n"
     ]
    },
    {
     "name": "stderr",
     "output_type": "stream",
     "text": [
      "C:\\Users\\Peter\\AppData\\Local\\Temp\\ipykernel_62244\\485486024.py:27: FutureWarning: Passing literal html to 'read_html' is deprecated and will be removed in a future version. To read from a literal string, wrap it in a 'StringIO' object.\n",
      "  tables = pd.read_html(html_source)\n"
     ]
    },
    {
     "name": "stdout",
     "output_type": "stream",
     "text": [
      "Scraping data for the year 2019...\n"
     ]
    },
    {
     "name": "stderr",
     "output_type": "stream",
     "text": [
      "C:\\Users\\Peter\\AppData\\Local\\Temp\\ipykernel_62244\\485486024.py:27: FutureWarning: Passing literal html to 'read_html' is deprecated and will be removed in a future version. To read from a literal string, wrap it in a 'StringIO' object.\n",
      "  tables = pd.read_html(html_source)\n"
     ]
    },
    {
     "name": "stdout",
     "output_type": "stream",
     "text": [
      "Scraping data for the year 2020...\n"
     ]
    },
    {
     "name": "stderr",
     "output_type": "stream",
     "text": [
      "C:\\Users\\Peter\\AppData\\Local\\Temp\\ipykernel_62244\\485486024.py:27: FutureWarning: Passing literal html to 'read_html' is deprecated and will be removed in a future version. To read from a literal string, wrap it in a 'StringIO' object.\n",
      "  tables = pd.read_html(html_source)\n"
     ]
    },
    {
     "name": "stdout",
     "output_type": "stream",
     "text": [
      "Scraping data for the year 2021...\n"
     ]
    },
    {
     "name": "stderr",
     "output_type": "stream",
     "text": [
      "C:\\Users\\Peter\\AppData\\Local\\Temp\\ipykernel_62244\\485486024.py:27: FutureWarning: Passing literal html to 'read_html' is deprecated and will be removed in a future version. To read from a literal string, wrap it in a 'StringIO' object.\n",
      "  tables = pd.read_html(html_source)\n"
     ]
    },
    {
     "name": "stdout",
     "output_type": "stream",
     "text": [
      "Scraping data for the year 2022...\n"
     ]
    },
    {
     "name": "stderr",
     "output_type": "stream",
     "text": [
      "C:\\Users\\Peter\\AppData\\Local\\Temp\\ipykernel_62244\\485486024.py:27: FutureWarning: Passing literal html to 'read_html' is deprecated and will be removed in a future version. To read from a literal string, wrap it in a 'StringIO' object.\n",
      "  tables = pd.read_html(html_source)\n"
     ]
    },
    {
     "name": "stdout",
     "output_type": "stream",
     "text": [
      "Scraping data for the year 2023...\n"
     ]
    },
    {
     "name": "stderr",
     "output_type": "stream",
     "text": [
      "C:\\Users\\Peter\\AppData\\Local\\Temp\\ipykernel_62244\\485486024.py:27: FutureWarning: Passing literal html to 'read_html' is deprecated and will be removed in a future version. To read from a literal string, wrap it in a 'StringIO' object.\n",
      "  tables = pd.read_html(html_source)\n"
     ]
    },
    {
     "name": "stdout",
     "output_type": "stream",
     "text": [
      "Scraping data for the year 2024...\n"
     ]
    },
    {
     "name": "stderr",
     "output_type": "stream",
     "text": [
      "C:\\Users\\Peter\\AppData\\Local\\Temp\\ipykernel_62244\\485486024.py:27: FutureWarning: Passing literal html to 'read_html' is deprecated and will be removed in a future version. To read from a literal string, wrap it in a 'StringIO' object.\n",
      "  tables = pd.read_html(html_source)\n"
     ]
    }
   ],
   "source": [
    "import pandas as pd\n",
    "from selenium import webdriver\n",
    "from selenium.webdriver.common.by import By\n",
    "\n",
    "# Initialize the WebDriver for Firefox. Ensure geckodriver is installed and in your PATH.\n",
    "wd = webdriver.Firefox()\n",
    "\n",
    "# Define a function to scrape data for a given year\n",
    "def scrape_wnba_stats(year):\n",
    "    # Define the URL to scrape for the specific year\n",
    "    url = f\"https://www.espn.com/wnba/stats/player/_/season/{year}/seasontype/2\"\n",
    "\n",
    "    # Open the URL in the WebDriver\n",
    "    wd.get(url)\n",
    "\n",
    "    # Pause to allow manual interaction for pressing the 'Show More' button twice\n",
    "    input(f\"Press Enter after pressing 'Show More' button twice for the year {year}...\")\n",
    "\n",
    "    # Extract the player names using Selenium by locating elements that match the given XPath\n",
    "    player_elements = wd.find_elements(By.XPATH, \"//tr[contains(@class, 'Table__TR')]//td[2]//a\")\n",
    "\n",
    "    # Extract the text from each WebElement and store it in a list\n",
    "    names = [element.text for element in player_elements if element.text]\n",
    "\n",
    "    # Use pandas to read the HTML tables from the webpage source fetched by Selenium\n",
    "    html_source = wd.page_source\n",
    "    tables = pd.read_html(html_source)\n",
    "\n",
    "    # Assuming the first table contains 'RK' and 'NAME' columns, and the second table contains the rest of the statistics\n",
    "    players = tables[0]\n",
    "    stats = tables[1]\n",
    "\n",
    "    # Drop the 'RK' column from the players DataFrame\n",
    "    players = players.drop(columns=['RK'])\n",
    "\n",
    "    # Add the extracted player names to the players DataFrame\n",
    "    players['Name'] = names\n",
    "\n",
    "    # Merge the players and stats DataFrames on their index to create a complete dataset\n",
    "    df = pd.concat([players, stats], axis=1)\n",
    "\n",
    "    return df\n",
    "\n",
    "# Iterate through the years from 2007 to 2024\n",
    "for year in range(2007, 2024 + 1):\n",
    "    print(f\"Scraping data for the year {year}...\")\n",
    "    df_year = scrape_wnba_stats(year)\n",
    "    df_year['Year'] = year  # Add a column to identify the year of the data\n",
    "    \n",
    "    # Save the DataFrame to a CSV file named 'wnba_player_stats_{year}.csv'\n",
    "    df_year.to_csv(f'wnba_player_stats_{year}.csv', index=False)\n",
    "\n",
    "# Close the WebDriver\n",
    "wd.quit()\n"
   ]
  }
 ],
 "metadata": {
  "kernelspec": {
   "display_name": ".venv",
   "language": "python",
   "name": "python3"
  },
  "language_info": {
   "codemirror_mode": {
    "name": "ipython",
    "version": 3
   },
   "file_extension": ".py",
   "mimetype": "text/x-python",
   "name": "python",
   "nbconvert_exporter": "python",
   "pygments_lexer": "ipython3",
   "version": "3.11.4"
  }
 },
 "nbformat": 4,
 "nbformat_minor": 2
}
