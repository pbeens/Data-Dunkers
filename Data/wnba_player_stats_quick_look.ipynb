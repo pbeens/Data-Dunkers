{
 "cells": [
  {
   "cell_type": "markdown",
   "metadata": {},
   "source": [
    "Open in [Colab](https://githubtocolab.com/pbeens/Data-Dunkers/blob/main/Data/wnba_player_stats_quick_look.ipynb)."
   ]
  },
  {
   "cell_type": "code",
   "execution_count": 5,
   "metadata": {},
   "outputs": [],
   "source": [
    "import pandas as pd\n",
    "\n",
    "# Load the dataset (PICK ONE)\n",
    "# === 2024 local and online === \n",
    "# file_path = 'wnba_player_stats_2024.csv'\n",
    "# file_path = 'https://raw.githubusercontent.com/pbeens/Data-Dunkers/main/Data/wnba_player_stats_2024.csv'\n",
    "# === all years local and online === \n",
    "# file_path = 'wnba_player_stats_all.csv'\n",
    "file_path = 'https://raw.githubusercontent.com/pbeens/Data-Dunkers/main/Data/wnba_player_stats_all.csv'\n",
    "\n",
    "wnba_data = pd.read_csv(file_path)"
   ]
  },
  {
   "cell_type": "code",
   "execution_count": 6,
   "metadata": {},
   "outputs": [
    {
     "name": "stdout",
     "output_type": "stream",
     "text": [
      "num_names=477\n",
      "num_records=1955\n",
      "max_gp=40\n",
      "unique_positions=array(['F', 'G', nan, 'C'], dtype=object)\n",
      "wnba_data.columns=Index(['Name', 'Year', 'POS', 'GP', 'MIN', 'PTS', 'FGM', 'FGA', 'FG%', '3PM',\n",
      "       '3PA', '3P%', 'FTM', 'FTA', 'FT%', 'REB', 'AST', 'STL', 'BLK', 'TO'],\n",
      "      dtype='object')\n"
     ]
    }
   ],
   "source": [
    "# Calculate and print the number of unique players\n",
    "num_names = wnba_data['Name'].nunique() # same as len(wnba_data['PLAYER'].unique()\n",
    "print(f\"{num_names=}\")\n",
    "\n",
    "# Get the number of records\n",
    "num_records = wnba_data.shape[0]\n",
    "print(f\"{num_records=}\")\n",
    "\n",
    "# Calculate the maximum games played \"GP\" of all the players\n",
    "max_gp = wnba_data['GP'].max()\n",
    "print(f\"{max_gp=}\")\n",
    "\n",
    "# Get all unique positions (POS)\n",
    "unique_positions = wnba_data['POS'].unique()\n",
    "print(f\"{unique_positions=}\")\n",
    "\n",
    "# Names of columns\n",
    "print(f\"{wnba_data.columns=}\")"
   ]
  }
 ],
 "metadata": {
  "kernelspec": {
   "display_name": ".venv",
   "language": "python",
   "name": "python3"
  },
  "language_info": {
   "codemirror_mode": {
    "name": "ipython",
    "version": 3
   },
   "file_extension": ".py",
   "mimetype": "text/x-python",
   "name": "python",
   "nbconvert_exporter": "python",
   "pygments_lexer": "ipython3",
   "version": "3.11.4"
  }
 },
 "nbformat": 4,
 "nbformat_minor": 2
}
