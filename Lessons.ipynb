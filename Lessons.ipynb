{
 "cells": [
  {
   "cell_type": "markdown",
   "metadata": {},
   "source": [
    "# Lesson Suggestions"
   ]
  },
  {
   "cell_type": "markdown",
   "metadata": {},
   "source": [
    "The lessons have been designed to be done in this order, but you may wish to adapt the order, depending on the audience, your needs, or time constraints. \n",
    "\n",
    "A summary of the code snippets covered in these lessons are compiled into this [cheatsheet](https://github.com/pbeens/Data-Dunkers/blob/main/cheatsheet.md). You may find this valuable to refer to while doing the lessons."
   ]
  },
  {
   "cell_type": "markdown",
   "metadata": {},
   "source": [
    "## Intro to Jupyter Notebooks"
   ]
  },
  {
   "cell_type": "markdown",
   "metadata": {},
   "source": [
    "1. [Demo: Jupyter Notebooks](https://github.com/pbeens/Data-Dunkers/blob/main/Demos/jupyter-notebook-demo.ipynb)\n",
    "   * Basics of Markdown\n",
    "   * Code Cells vs Markdown Cells (Pay attention to \"Hello world\" example program!) \n",
    "   * How to run code in a code cell\n",
    "   * Optional Class Activity: [hello-world](https://github.com/pbeens/Data-Dunkers/blob/main/Activities/hello-world.ipynb)\n",
    "     * Discussion of Basic Python syntax\n",
    "\n",
    "*Note: A teacher's guide to this demo is available [here](https://github.com/pbeens/Data-Dunkers/blob/main/Demos/Guides/jupyter-notebook-demo-guide.md). It is also available in [PDF](https://github.com/pbeens/Data-Dunkers/blob/main/Demos/Guides/jupyter-notebook-demo-guide.pdf) format for download.*"
   ]
  },
  {
   "cell_type": "markdown",
   "metadata": {},
   "source": [
    "## Getting the Data (Input Stage)"
   ]
  },
  {
   "cell_type": "markdown",
   "metadata": {},
   "source": [
    "2. [Getting Data From Within the Notebook](https://github.com/pbeens/Data-Dunkers/blob/main/Demos/data-from-internal.ipynb) ([Teacher's Guide](https://github.com/pbeens/Data-Dunkers/blob/main/Demos/Guides/where-can-we-get-data-from-internal-guide.md) | [Teacher's Guide (PDF)](https://github.com/pbeens/Data-Dunkers/blob/main/Demos/Guides/where-can-we-get-data-from-internal-guide.pdf))\n",
    "2. [Getting Data from a CSV file](https://github.com/pbeens/Data-Dunkers/blob/main/Demos/data-from-csv.ipynb)\n",
    "3. [Getting Data from an Excel file](https://github.com/pbeens/Data-Dunkers/blob/main/Demos/data-from-excel.ipynb)\n",
    "4. [Getting Data from a Webpage](https://github.com/pbeens/Data-Dunkers/blob/main/Demos/data-from-webpage.ipynb)\n",
    "5. [Getting Data from a Google Sheet](https://github.com/pbeens/Data-Dunkers/blob/main/Demos/data-from-google-sheet.ipynb)"
   ]
  },
  {
   "cell_type": "markdown",
   "metadata": {},
   "source": [
    "## Processing the Data (Process Stage)"
   ]
  },
  {
   "cell_type": "markdown",
   "metadata": {},
   "source": [
    "7. [Playing with Columns](https://github.com/pbeens/Data-Dunkers/blob/main/Demos/columns.ipynb)\n",
    "2. [Filtering Our Data](https://github.com/pbeens/Data-Dunkers/blob/main/Demos/filtering-data.ipynb)\n",
    "3. [Sorting Our Data](https://github.com/pbeens/Data-Dunkers/blob/main/Demos/sorting-data.ipynb)\n",
    "4. [Adding New Columns](https://github.com/pbeens/Data-Dunkers/blob/main/Demos/new-columns.ipynb)"
   ]
  },
  {
   "cell_type": "markdown",
   "metadata": {},
   "source": [
    "## Plotting the Data (Output Stage)"
   ]
  },
  {
   "cell_type": "markdown",
   "metadata": {},
   "source": [
    "11. [Bar Graphs](https://github.com/pbeens/Data-Dunkers/blob/main/Demos/bar-graphs.ipynb)\n",
    "2. [Scatter Plots](https://github.com/pbeens/Data-Dunkers/blob/main/Demos/scatter-plots.ipynb)\n",
    "3. [Pie Charts](https://github.com/pbeens/Data-Dunkers/blob/main/Demos/pie-charts.ipynb)\n",
    "4. [Histograms](https://github.com/pbeens/Data-Dunkers/blob/main/Demos/histograms.ipynb)\n",
    "5. [Statistics](https://github.com/pbeens/Data-Dunkers/blob/main/Demos/statistics.ipynb)"
   ]
  },
  {
   "cell_type": "markdown",
   "metadata": {},
   "source": [
    "---\n",
    "*Report issues or give us feedback about this notebook [here](https://docs.google.com/forms/d/e/1FAIpQLSdMRX2hPqZyD8-argFJXxB3ABQdLk3aUH1CAfmMEtcFAlWzCw/viewform?usp=pp_url&entry.1771525592=Module+Resources+(the+Jupyter+notebooks,+PPTS+or+additional+resources)&entry.1364186163=Lesson+Suggestions).*"
   ]
  }
 ],
 "metadata": {
  "language_info": {
   "name": "python"
  }
 },
 "nbformat": 4,
 "nbformat_minor": 2
}
